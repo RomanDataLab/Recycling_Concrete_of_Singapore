{
 "cells": [
  {
   "cell_type": "code",
   "execution_count": 1,
   "id": "b389ec0e",
   "metadata": {},
   "outputs": [],
   "source": [
    "import geopandas as gpd\n",
    "import pandas as pd\n",
    "import numpy as np\n",
    "import matplotlib.pyplot as plt"
   ]
  },
  {
   "cell_type": "code",
   "execution_count": 2,
   "id": "390752b6",
   "metadata": {},
   "outputs": [
    {
     "data": {
      "text/html": [
       "<div>\n",
       "<style scoped>\n",
       "    .dataframe tbody tr th:only-of-type {\n",
       "        vertical-align: middle;\n",
       "    }\n",
       "\n",
       "    .dataframe tbody tr th {\n",
       "        vertical-align: top;\n",
       "    }\n",
       "\n",
       "    .dataframe thead th {\n",
       "        text-align: right;\n",
       "    }\n",
       "</style>\n",
       "<table border=\"1\" class=\"dataframe\">\n",
       "  <thead>\n",
       "    <tr style=\"text-align: right;\">\n",
       "      <th></th>\n",
       "      <th>osmid</th>\n",
       "      <th>amenity</th>\n",
       "      <th>name</th>\n",
       "      <th>building</th>\n",
       "      <th>addr_house</th>\n",
       "      <th>addr_stree</th>\n",
       "      <th>addr_hou_1</th>\n",
       "      <th>addr_postc</th>\n",
       "      <th>building_l</th>\n",
       "      <th>start_date</th>\n",
       "      <th>...</th>\n",
       "      <th>height</th>\n",
       "      <th>roof_colou</th>\n",
       "      <th>roof_mater</th>\n",
       "      <th>roof_shape</th>\n",
       "      <th>residentia</th>\n",
       "      <th>roof_level</th>\n",
       "      <th>addr_neigh</th>\n",
       "      <th>build_prog</th>\n",
       "      <th>build_ager</th>\n",
       "      <th>geometry</th>\n",
       "    </tr>\n",
       "  </thead>\n",
       "  <tbody>\n",
       "    <tr>\n",
       "      <th>0</th>\n",
       "      <td>30527021</td>\n",
       "      <td>NaN</td>\n",
       "      <td>Sim Lim Square</td>\n",
       "      <td>retail</td>\n",
       "      <td>1</td>\n",
       "      <td>Rochor Canal Road</td>\n",
       "      <td>NaN</td>\n",
       "      <td>188504</td>\n",
       "      <td>6</td>\n",
       "      <td>NaN</td>\n",
       "      <td>...</td>\n",
       "      <td>NaN</td>\n",
       "      <td>NaN</td>\n",
       "      <td>NaN</td>\n",
       "      <td>NaN</td>\n",
       "      <td>NaN</td>\n",
       "      <td>NaN</td>\n",
       "      <td>NaN</td>\n",
       "      <td>deco_box</td>\n",
       "      <td>NaN</td>\n",
       "      <td>POLYGON ((103.85308 1.30254, 103.85302 1.30259...</td>\n",
       "    </tr>\n",
       "    <tr>\n",
       "      <th>1</th>\n",
       "      <td>32342169</td>\n",
       "      <td>NaN</td>\n",
       "      <td>National Museum of Singapore</td>\n",
       "      <td>public</td>\n",
       "      <td>93</td>\n",
       "      <td>Stamford Road</td>\n",
       "      <td>NaN</td>\n",
       "      <td>178897</td>\n",
       "      <td>NaN</td>\n",
       "      <td>1887.0</td>\n",
       "      <td>...</td>\n",
       "      <td>NaN</td>\n",
       "      <td>NaN</td>\n",
       "      <td>NaN</td>\n",
       "      <td>NaN</td>\n",
       "      <td>NaN</td>\n",
       "      <td>NaN</td>\n",
       "      <td>NaN</td>\n",
       "      <td>civic</td>\n",
       "      <td>1875-1899</td>\n",
       "      <td>POLYGON ((103.84797 1.29710, 103.84808 1.29718...</td>\n",
       "    </tr>\n",
       "    <tr>\n",
       "      <th>2</th>\n",
       "      <td>32507125</td>\n",
       "      <td>police</td>\n",
       "      <td>Police Cantonment Complex</td>\n",
       "      <td>yes</td>\n",
       "      <td>391</td>\n",
       "      <td>New Bridge Road</td>\n",
       "      <td>NaN</td>\n",
       "      <td>088762</td>\n",
       "      <td>NaN</td>\n",
       "      <td>2001.0</td>\n",
       "      <td>...</td>\n",
       "      <td>0</td>\n",
       "      <td>NaN</td>\n",
       "      <td>NaN</td>\n",
       "      <td>NaN</td>\n",
       "      <td>NaN</td>\n",
       "      <td>NaN</td>\n",
       "      <td>NaN</td>\n",
       "      <td>NaN</td>\n",
       "      <td>2000-2024</td>\n",
       "      <td>POLYGON ((103.83885 1.27855, 103.83912 1.27869...</td>\n",
       "    </tr>\n",
       "    <tr>\n",
       "      <th>3</th>\n",
       "      <td>32507157</td>\n",
       "      <td>NaN</td>\n",
       "      <td>NaN</td>\n",
       "      <td>office</td>\n",
       "      <td>11</td>\n",
       "      <td>Outram Road</td>\n",
       "      <td>NaN</td>\n",
       "      <td>169078</td>\n",
       "      <td>NaN</td>\n",
       "      <td>1981.0</td>\n",
       "      <td>...</td>\n",
       "      <td>0</td>\n",
       "      <td>NaN</td>\n",
       "      <td>NaN</td>\n",
       "      <td>NaN</td>\n",
       "      <td>NaN</td>\n",
       "      <td>NaN</td>\n",
       "      <td>NaN</td>\n",
       "      <td>glass_box</td>\n",
       "      <td>1975-1999</td>\n",
       "      <td>POLYGON ((103.83794 1.28024, 103.83794 1.28044...</td>\n",
       "    </tr>\n",
       "    <tr>\n",
       "      <th>4</th>\n",
       "      <td>32507166</td>\n",
       "      <td>NaN</td>\n",
       "      <td>NaN</td>\n",
       "      <td>public</td>\n",
       "      <td>3</td>\n",
       "      <td>Second Hospital Avenue</td>\n",
       "      <td>Health Promotion Board Building</td>\n",
       "      <td>168937</td>\n",
       "      <td>NaN</td>\n",
       "      <td>1981.0</td>\n",
       "      <td>...</td>\n",
       "      <td>0</td>\n",
       "      <td>NaN</td>\n",
       "      <td>NaN</td>\n",
       "      <td>NaN</td>\n",
       "      <td>NaN</td>\n",
       "      <td>NaN</td>\n",
       "      <td>NaN</td>\n",
       "      <td>civic</td>\n",
       "      <td>1975-1999</td>\n",
       "      <td>POLYGON ((103.83840 1.27965, 103.83823 1.27965...</td>\n",
       "    </tr>\n",
       "  </tbody>\n",
       "</table>\n",
       "<p>5 rows × 23 columns</p>\n",
       "</div>"
      ],
      "text/plain": [
       "      osmid amenity                          name building addr_house   \n",
       "0  30527021     NaN                Sim Lim Square   retail          1  \\\n",
       "1  32342169     NaN  National Museum of Singapore   public         93   \n",
       "2  32507125  police     Police Cantonment Complex      yes        391   \n",
       "3  32507157     NaN                           NaN   office         11   \n",
       "4  32507166     NaN                           NaN   public          3   \n",
       "\n",
       "               addr_stree                       addr_hou_1 addr_postc   \n",
       "0       Rochor Canal Road                              NaN     188504  \\\n",
       "1           Stamford Road                              NaN     178897   \n",
       "2         New Bridge Road                              NaN     088762   \n",
       "3             Outram Road                              NaN     169078   \n",
       "4  Second Hospital Avenue  Health Promotion Board Building     168937   \n",
       "\n",
       "  building_l  start_date  ... height roof_colou roof_mater roof_shape   \n",
       "0          6         NaN  ...    NaN        NaN        NaN        NaN  \\\n",
       "1        NaN      1887.0  ...    NaN        NaN        NaN        NaN   \n",
       "2        NaN      2001.0  ...      0        NaN        NaN        NaN   \n",
       "3        NaN      1981.0  ...      0        NaN        NaN        NaN   \n",
       "4        NaN      1981.0  ...      0        NaN        NaN        NaN   \n",
       "\n",
       "  residentia roof_level addr_neigh build_prog build_ager   \n",
       "0        NaN        NaN        NaN   deco_box        NaN  \\\n",
       "1        NaN        NaN        NaN      civic  1875-1899   \n",
       "2        NaN        NaN        NaN        NaN  2000-2024   \n",
       "3        NaN        NaN        NaN  glass_box  1975-1999   \n",
       "4        NaN        NaN        NaN      civic  1975-1999   \n",
       "\n",
       "                                            geometry  \n",
       "0  POLYGON ((103.85308 1.30254, 103.85302 1.30259...  \n",
       "1  POLYGON ((103.84797 1.29710, 103.84808 1.29718...  \n",
       "2  POLYGON ((103.83885 1.27855, 103.83912 1.27869...  \n",
       "3  POLYGON ((103.83794 1.28024, 103.83794 1.28044...  \n",
       "4  POLYGON ((103.83840 1.27965, 103.83823 1.27965...  \n",
       "\n",
       "[5 rows x 23 columns]"
      ]
     },
     "execution_count": 2,
     "metadata": {},
     "output_type": "execute_result"
    }
   ],
   "source": [
    "gdfx = gpd.read_file(r'C:/WORK_IAAC/submissions/Internet of Buildings/IoB_WIP/IoB_QGIS/buildings/buildings_FIN.shp', encoding='latin-1')\n",
    "gdfx.head()"
   ]
  },
  {
   "cell_type": "code",
   "execution_count": 87,
   "id": "b4f2dfbf",
   "metadata": {},
   "outputs": [
    {
     "data": {
      "image/png": "[encoded data removed]",
      "text/plain": [
       "<Figure size 640x480 with 1 Axes>"
      ]
     },
     "metadata": {},
     "output_type": "display_data"
    }
   ],
   "source": [
    "# get the count of non-NaN values for each column\n",
    "non_nan_count = gdfx.count()\n",
    "\n",
    "# create a bar plot of non-NaN counts with red color\n",
    "ax = non_nan_count.plot(kind='bar', color='red')\n",
    "\n",
    "# add the count percentage above each bar\n",
    "for i, v in enumerate(non_nan_count):\n",
    "    ax.text(i, v+5, str(round((v/gdfx.shape[0])*100, 2)) + '%', ha='center', rotation=90, size=8)\n",
    "    \n",
    "# set the x-label and y-label\n",
    "ax.set_xlabel('Columns')\n",
    "ax.set_ylabel('Number of non-NaN values')\n",
    "\n",
    "plt.show()"
   ]
  },
  {
   "cell_type": "code",
   "execution_count": 89,
   "id": "9da87d82",
   "metadata": {},
   "outputs": [
    {
     "data": {
      "text/plain": [
       "array(['SG', nan], dtype=object)"
      ]
     },
     "execution_count": 89,
     "metadata": {},
     "output_type": "execute_result"
    }
   ],
   "source": [
    "gdfx['addr_count'].unique()"
   ]
  },
  {
   "cell_type": "code",
   "execution_count": 7,
   "id": "eaa237ca",
   "metadata": {},
   "outputs": [
    {
     "data": {
      "text/plain": [
       "733"
      ]
     },
     "execution_count": 7,
     "metadata": {},
     "output_type": "execute_result"
    }
   ],
   "source": [
    "gdfx['residentia'].value_counts().get('hdb', 0)"
   ]
  },
  {
   "cell_type": "code",
   "execution_count": 24,
   "id": "f6ed54fa",
   "metadata": {},
   "outputs": [
    {
     "data": {
      "text/plain": [
       "17670"
      ]
     },
     "execution_count": 24,
     "metadata": {},
     "output_type": "execute_result"
    }
   ],
   "source": [
    "#replace building programs in column build_prog\n",
    "word1 = 'residential'\n",
    "word2 = 'resident_high'\n",
    "# mask = gdfx['name'].str.contains('Cafe', case=False)\n",
    "mask = gdfx['residentia'].notna()\n",
    "# gdfx[mask]\n",
    "gdfx.loc[mask & ((gdfx['building'] == 'yes') | (gdfx['building'] == 'no')), 'building'] = word1\n",
    "gdfx.loc[mask & ((gdfx['build_prog'].isna())), 'build_prog'] = word2\n",
    "\n",
    "gdfx['build_prog'].value_counts().get(word2, 0)"
   ]
  },
  {
   "cell_type": "code",
   "execution_count": 31,
   "id": "fef252d3",
   "metadata": {},
   "outputs": [
    {
     "data": {
      "text/plain": [
       "array([nan, 'police', 'food_court', 'hospital', 'library',\n",
       "       'place_of_worship', 'bank', 'social_facility', 'conference_centre',\n",
       "       'college', 'restaurant', 'parking', 'shelter', 'clinic', 'fuel',\n",
       "       'theatre', 'toilets', 'fast_food', 'cafe', 'nursing_home',\n",
       "       'childcare', 'music_school', 'bar', 'public_building',\n",
       "       'vehicle_inspection', 'fire_station', 'kindergarten',\n",
       "       'arts_centre', 'marketplace', 'pub', 'ferry_terminal',\n",
       "       'community_centre', 'dressing_room', 'car_wash', 'doctors',\n",
       "       'cinema', 'monastery', 'bus_station', 'school', 'studio',\n",
       "       'prep_school', 'car_rental', 'ice_cream', 'language_school',\n",
       "       'events_venue', 'shower', 'clubhouse', 'waste_transfer_station',\n",
       "       'stage', 'waste_disposal', 'pharmacy', 'atm', 'driving_school',\n",
       "       'commercial', 'crematorium', 'post_office', 'veterinary',\n",
       "       'dentist', 'social_centre', 'university', 'taxi', 'Clubhouse',\n",
       "       'townhall', 'bicycle_rental', 'bicycle_parking'], dtype=object)"
      ]
     },
     "execution_count": 31,
     "metadata": {},
     "output_type": "execute_result"
    }
   ],
   "source": [
    "gdfx['amenity'].unique()"
   ]
  },
  {
   "cell_type": "code",
   "execution_count": 86,
   "id": "b6d4e2ad",
   "metadata": {},
   "outputs": [
    {
     "name": "stdout",
     "output_type": "stream",
     "text": [
      "waste_disposal = 23, waste_transfer_station = 35\n"
     ]
    }
   ],
   "source": [
    "#check amount of waste facilites in amenities column\n",
    "w1=gdfx['amenity'].value_counts().get(amelist[49],0)\n",
    "w2=gdfx['amenity'].value_counts().get(amelist[47],0)\n",
    "print(f\"{amelist[49]} = {w2}, {amelist[47]} = {w1}\") "
   ]
  },
  {
   "cell_type": "code",
   "execution_count": 43,
   "id": "9f3e023e",
   "metadata": {},
   "outputs": [
    {
     "data": {
      "text/plain": [
       "array(['deco_box', 'civic', 'glass_box', nan, 'industrial', 'medic',\n",
       "       'resident_high', 'resident_low', 'transport', 'religious',\n",
       "       'education', 'small_box', 'sport', 'ruins', 'construction_site'],\n",
       "      dtype=object)"
      ]
     },
     "execution_count": 43,
     "metadata": {},
     "output_type": "execute_result"
    }
   ],
   "source": [
    "gdfx['build_prog'].unique()"
   ]
  },
  {
   "cell_type": "code",
   "execution_count": 78,
   "id": "422a9ba7",
   "metadata": {},
   "outputs": [
    {
     "data": {
      "text/plain": [
       "'waste_disposal'"
      ]
     },
     "execution_count": 78,
     "metadata": {},
     "output_type": "execute_result"
    }
   ],
   "source": [
    "amelist[49]"
   ]
  },
  {
   "cell_type": "code",
   "execution_count": 76,
   "id": "9d758db3",
   "metadata": {},
   "outputs": [
    {
     "data": {
      "text/plain": [
       "438"
      ]
     },
     "execution_count": 76,
     "metadata": {},
     "output_type": "execute_result"
    }
   ],
   "source": [
    "#replace building programs in column build_prog\n",
    "amelist = gdfx['amenity'].unique()\n",
    "program_list = gdfx['build_prog'].unique()\n",
    "word = program_list[10]\n",
    "mask = gdfx['amenity'].str.contains(amelist[59], case=False)\n",
    "mask = mask.fillna(False)\n",
    "\n",
    "gdfx.loc[mask & ((gdfx['building'] == 'yes') | (gdfx['building'] == 'no')), 'building'] = word\n",
    "gdfx.loc[mask & ((gdfx['build_prog'].isna())), 'build_prog'] = word\n",
    "\n",
    "gdfx['build_prog'].value_counts().get(word, 0)"
   ]
  },
  {
   "cell_type": "code",
   "execution_count": 56,
   "id": "56280999",
   "metadata": {},
   "outputs": [
    {
     "data": {
      "text/html": [
       "<div>\n",
       "<style scoped>\n",
       "    .dataframe tbody tr th:only-of-type {\n",
       "        vertical-align: middle;\n",
       "    }\n",
       "\n",
       "    .dataframe tbody tr th {\n",
       "        vertical-align: top;\n",
       "    }\n",
       "\n",
       "    .dataframe thead th {\n",
       "        text-align: right;\n",
       "    }\n",
       "</style>\n",
       "<table border=\"1\" class=\"dataframe\">\n",
       "  <thead>\n",
       "    <tr style=\"text-align: right;\">\n",
       "      <th></th>\n",
       "      <th>osmid</th>\n",
       "      <th>amenity</th>\n",
       "      <th>name</th>\n",
       "      <th>building</th>\n",
       "      <th>addr_house</th>\n",
       "      <th>addr_stree</th>\n",
       "      <th>addr_hou_1</th>\n",
       "      <th>addr_postc</th>\n",
       "      <th>building_l</th>\n",
       "      <th>start_date</th>\n",
       "      <th>...</th>\n",
       "      <th>roof_colou</th>\n",
       "      <th>roof_mater</th>\n",
       "      <th>roof_shape</th>\n",
       "      <th>residentia</th>\n",
       "      <th>roof_level</th>\n",
       "      <th>addr_neigh</th>\n",
       "      <th>build_prog</th>\n",
       "      <th>build_ager</th>\n",
       "      <th>geometry</th>\n",
       "      <th>build_footprint</th>\n",
       "    </tr>\n",
       "  </thead>\n",
       "  <tbody>\n",
       "    <tr>\n",
       "      <th>612</th>\n",
       "      <td>104960240</td>\n",
       "      <td>nursing_home</td>\n",
       "      <td>Orange Valley Nursing Home</td>\n",
       "      <td>medic</td>\n",
       "      <td>221</td>\n",
       "      <td>Clementi Avenue 4</td>\n",
       "      <td>NaN</td>\n",
       "      <td>129881</td>\n",
       "      <td>6</td>\n",
       "      <td>NaN</td>\n",
       "      <td>...</td>\n",
       "      <td>NaN</td>\n",
       "      <td>NaN</td>\n",
       "      <td>NaN</td>\n",
       "      <td>NaN</td>\n",
       "      <td>NaN</td>\n",
       "      <td>NaN</td>\n",
       "      <td>medic</td>\n",
       "      <td>NaN</td>\n",
       "      <td>POLYGON ((103.769 1.319, 103.769 1.319, 103.76...</td>\n",
       "      <td>6.935187e-08</td>\n",
       "    </tr>\n",
       "    <tr>\n",
       "      <th>15610</th>\n",
       "      <td>372138391</td>\n",
       "      <td>nursing_home</td>\n",
       "      <td>Saint Bernadette Lifestyle Village</td>\n",
       "      <td>residential</td>\n",
       "      <td>255B</td>\n",
       "      <td>Bukit Timah Road</td>\n",
       "      <td>NaN</td>\n",
       "      <td>259693</td>\n",
       "      <td>NaN</td>\n",
       "      <td>NaN</td>\n",
       "      <td>...</td>\n",
       "      <td>NaN</td>\n",
       "      <td>NaN</td>\n",
       "      <td>NaN</td>\n",
       "      <td>NaN</td>\n",
       "      <td>NaN</td>\n",
       "      <td>NaN</td>\n",
       "      <td>resident_high</td>\n",
       "      <td>NaN</td>\n",
       "      <td>POLYGON ((103.837 1.315, 103.837 1.315, 103.83...</td>\n",
       "      <td>2.104512e-08</td>\n",
       "    </tr>\n",
       "    <tr>\n",
       "      <th>75384</th>\n",
       "      <td>464928945</td>\n",
       "      <td>nursing_home</td>\n",
       "      <td>NTUC Health Nursing Home</td>\n",
       "      <td>medic</td>\n",
       "      <td>50</td>\n",
       "      <td>Jurong West Street 93</td>\n",
       "      <td>NaN</td>\n",
       "      <td>648967</td>\n",
       "      <td>NaN</td>\n",
       "      <td>NaN</td>\n",
       "      <td>...</td>\n",
       "      <td>NaN</td>\n",
       "      <td>NaN</td>\n",
       "      <td>NaN</td>\n",
       "      <td>NaN</td>\n",
       "      <td>NaN</td>\n",
       "      <td>NaN</td>\n",
       "      <td>resident_high</td>\n",
       "      <td>NaN</td>\n",
       "      <td>POLYGON ((103.692 1.341, 103.692 1.341, 103.69...</td>\n",
       "      <td>1.328948e-07</td>\n",
       "    </tr>\n",
       "    <tr>\n",
       "      <th>93917</th>\n",
       "      <td>293480960</td>\n",
       "      <td>nursing_home</td>\n",
       "      <td>Orange Valley Nursing Home</td>\n",
       "      <td>medic</td>\n",
       "      <td>52</td>\n",
       "      <td>Biggin Hill Road</td>\n",
       "      <td>NaN</td>\n",
       "      <td>509945</td>\n",
       "      <td>NaN</td>\n",
       "      <td>NaN</td>\n",
       "      <td>...</td>\n",
       "      <td>NaN</td>\n",
       "      <td>NaN</td>\n",
       "      <td>NaN</td>\n",
       "      <td>NaN</td>\n",
       "      <td>NaN</td>\n",
       "      <td>NaN</td>\n",
       "      <td>medic</td>\n",
       "      <td>NaN</td>\n",
       "      <td>POLYGON ((103.982 1.389, 103.982 1.389, 103.98...</td>\n",
       "      <td>5.842240e-08</td>\n",
       "    </tr>\n",
       "    <tr>\n",
       "      <th>99833</th>\n",
       "      <td>464928937</td>\n",
       "      <td>nursing_home</td>\n",
       "      <td>NTUC Health Nursing Home</td>\n",
       "      <td>medic</td>\n",
       "      <td>35</td>\n",
       "      <td>Chai Chee Street</td>\n",
       "      <td>NaN</td>\n",
       "      <td>468984</td>\n",
       "      <td>10</td>\n",
       "      <td>NaN</td>\n",
       "      <td>...</td>\n",
       "      <td>NaN</td>\n",
       "      <td>NaN</td>\n",
       "      <td>NaN</td>\n",
       "      <td>NaN</td>\n",
       "      <td>NaN</td>\n",
       "      <td>NaN</td>\n",
       "      <td>resident_high</td>\n",
       "      <td>NaN</td>\n",
       "      <td>POLYGON ((103.922 1.328, 103.922 1.328, 103.92...</td>\n",
       "      <td>1.095009e-07</td>\n",
       "    </tr>\n",
       "  </tbody>\n",
       "</table>\n",
       "<p>5 rows × 24 columns</p>\n",
       "</div>"
      ],
      "text/plain": [
       "           osmid       amenity                                name   \n",
       "612    104960240  nursing_home          Orange Valley Nursing Home  \\\n",
       "15610  372138391  nursing_home  Saint Bernadette Lifestyle Village   \n",
       "75384  464928945  nursing_home            NTUC Health Nursing Home   \n",
       "93917  293480960  nursing_home          Orange Valley Nursing Home   \n",
       "99833  464928937  nursing_home            NTUC Health Nursing Home   \n",
       "\n",
       "          building addr_house             addr_stree addr_hou_1 addr_postc   \n",
       "612          medic        221      Clementi Avenue 4        NaN     129881  \\\n",
       "15610  residential       255B       Bukit Timah Road        NaN     259693   \n",
       "75384        medic         50  Jurong West Street 93        NaN     648967   \n",
       "93917        medic         52       Biggin Hill Road        NaN     509945   \n",
       "99833        medic         35       Chai Chee Street        NaN     468984   \n",
       "\n",
       "      building_l  start_date  ... roof_colou roof_mater roof_shape residentia   \n",
       "612            6         NaN  ...        NaN        NaN        NaN        NaN  \\\n",
       "15610        NaN         NaN  ...        NaN        NaN        NaN        NaN   \n",
       "75384        NaN         NaN  ...        NaN        NaN        NaN        NaN   \n",
       "93917        NaN         NaN  ...        NaN        NaN        NaN        NaN   \n",
       "99833         10         NaN  ...        NaN        NaN        NaN        NaN   \n",
       "\n",
       "      roof_level addr_neigh     build_prog build_ager   \n",
       "612          NaN        NaN          medic        NaN  \\\n",
       "15610        NaN        NaN  resident_high        NaN   \n",
       "75384        NaN        NaN  resident_high        NaN   \n",
       "93917        NaN        NaN          medic        NaN   \n",
       "99833        NaN        NaN  resident_high        NaN   \n",
       "\n",
       "                                                geometry build_footprint  \n",
       "612    POLYGON ((103.769 1.319, 103.769 1.319, 103.76...    6.935187e-08  \n",
       "15610  POLYGON ((103.837 1.315, 103.837 1.315, 103.83...    2.104512e-08  \n",
       "75384  POLYGON ((103.692 1.341, 103.692 1.341, 103.69...    1.328948e-07  \n",
       "93917  POLYGON ((103.982 1.389, 103.982 1.389, 103.98...    5.842240e-08  \n",
       "99833  POLYGON ((103.922 1.328, 103.922 1.328, 103.92...    1.095009e-07  \n",
       "\n",
       "[5 rows x 24 columns]"
      ]
     },
     "execution_count": 56,
     "metadata": {},
     "output_type": "execute_result"
    }
   ],
   "source": [
    "gdfx[mask]"
   ]
  },
  {
   "cell_type": "code",
   "execution_count": 6,
   "id": "94bd5ad7",
   "metadata": {},
   "outputs": [],
   "source": [
    "#add column with age ranges\n",
    "def generate_ranges(start_year, end_year, step):\n",
    "    ranges = []\n",
    "    for i in range(start_year, end_year+1, step):\n",
    "        end = min(i+step-1, end_year)\n",
    "        ranges.append(f\"{i}-{end}\")\n",
    "    return ranges\n",
    "\n",
    "gdfx['build_agerange'] = gdfx['start_date'].apply(lambda x: generate_ranges(1800, 2025, 25)[int(x-1800)//25] if not np.isnan(x) else np.NaN)"
   ]
  },
  {
   "cell_type": "code",
   "execution_count": null,
   "id": "ed49fc17",
   "metadata": {},
   "outputs": [],
   "source": [
    "gdfx = gdfx.drop(columns=[''])"
   ]
  },
  {
   "cell_type": "code",
   "execution_count": 28,
   "id": "bc26772d",
   "metadata": {},
   "outputs": [
    {
     "data": {
      "text/plain": [
       "<Derived Projected CRS: EPSG:3414>\n",
       "Name: SVY21 / Singapore TM\n",
       "Axis Info [cartesian]:\n",
       "- N[north]: Northing (metre)\n",
       "- E[east]: Easting (metre)\n",
       "Area of Use:\n",
       "- name: Singapore - onshore and offshore.\n",
       "- bounds: (103.59, 1.13, 104.07, 1.47)\n",
       "Coordinate Operation:\n",
       "- name: Singapore Transverse Mercator\n",
       "- method: Transverse Mercator\n",
       "Datum: SVY21\n",
       "- Ellipsoid: WGS 84\n",
       "- Prime Meridian: Greenwich"
      ]
     },
     "execution_count": 28,
     "metadata": {},
     "output_type": "execute_result"
    }
   ],
   "source": [
    "gdfx.crs = 3414\n",
    "gdfx.crs"
   ]
  },
  {
   "cell_type": "code",
   "execution_count": 26,
   "id": "95e6a896",
   "metadata": {},
   "outputs": [
    {
     "data": {
      "text/plain": [
       "(111889, 23)"
      ]
     },
     "execution_count": 26,
     "metadata": {},
     "output_type": "execute_result"
    }
   ],
   "source": [
    "gdfx.shape"
   ]
  },
  {
   "cell_type": "code",
   "execution_count": 27,
   "id": "7ad3f013",
   "metadata": {},
   "outputs": [
    {
     "data": {
      "text/plain": [
       "104332"
      ]
     },
     "execution_count": 27,
     "metadata": {},
     "output_type": "execute_result"
    }
   ],
   "source": [
    "# Count the number of changes made\n",
    "gdfx['residentia'].isna().sum()"
   ]
  },
  {
   "cell_type": "code",
   "execution_count": 29,
   "id": "ae2a0ca2",
   "metadata": {},
   "outputs": [],
   "source": [
    "gdfx['build_footprint'] = gdfx['geometry'].area"
   ]
  },
  {
   "cell_type": "code",
   "execution_count": 30,
   "id": "635c1747",
   "metadata": {},
   "outputs": [
    {
     "data": {
      "text/html": [
       "<div>\n",
       "<style scoped>\n",
       "    .dataframe tbody tr th:only-of-type {\n",
       "        vertical-align: middle;\n",
       "    }\n",
       "\n",
       "    .dataframe tbody tr th {\n",
       "        vertical-align: top;\n",
       "    }\n",
       "\n",
       "    .dataframe thead th {\n",
       "        text-align: right;\n",
       "    }\n",
       "</style>\n",
       "<table border=\"1\" class=\"dataframe\">\n",
       "  <thead>\n",
       "    <tr style=\"text-align: right;\">\n",
       "      <th></th>\n",
       "      <th>osmid</th>\n",
       "      <th>amenity</th>\n",
       "      <th>name</th>\n",
       "      <th>building</th>\n",
       "      <th>addr_house</th>\n",
       "      <th>addr_stree</th>\n",
       "      <th>addr_hou_1</th>\n",
       "      <th>addr_postc</th>\n",
       "      <th>building_l</th>\n",
       "      <th>start_date</th>\n",
       "      <th>...</th>\n",
       "      <th>roof_colou</th>\n",
       "      <th>roof_mater</th>\n",
       "      <th>roof_shape</th>\n",
       "      <th>residentia</th>\n",
       "      <th>roof_level</th>\n",
       "      <th>addr_neigh</th>\n",
       "      <th>build_prog</th>\n",
       "      <th>build_ager</th>\n",
       "      <th>geometry</th>\n",
       "      <th>build_footprint</th>\n",
       "    </tr>\n",
       "  </thead>\n",
       "  <tbody>\n",
       "    <tr>\n",
       "      <th>0</th>\n",
       "      <td>30527021</td>\n",
       "      <td>NaN</td>\n",
       "      <td>Sim Lim Square</td>\n",
       "      <td>retail</td>\n",
       "      <td>1</td>\n",
       "      <td>Rochor Canal Road</td>\n",
       "      <td>NaN</td>\n",
       "      <td>188504</td>\n",
       "      <td>6</td>\n",
       "      <td>NaN</td>\n",
       "      <td>...</td>\n",
       "      <td>NaN</td>\n",
       "      <td>NaN</td>\n",
       "      <td>NaN</td>\n",
       "      <td>NaN</td>\n",
       "      <td>NaN</td>\n",
       "      <td>NaN</td>\n",
       "      <td>deco_box</td>\n",
       "      <td>NaN</td>\n",
       "      <td>POLYGON ((103.853 1.303, 103.853 1.303, 103.85...</td>\n",
       "      <td>4.846470e-07</td>\n",
       "    </tr>\n",
       "    <tr>\n",
       "      <th>1</th>\n",
       "      <td>32342169</td>\n",
       "      <td>NaN</td>\n",
       "      <td>National Museum of Singapore</td>\n",
       "      <td>public</td>\n",
       "      <td>93</td>\n",
       "      <td>Stamford Road</td>\n",
       "      <td>NaN</td>\n",
       "      <td>178897</td>\n",
       "      <td>NaN</td>\n",
       "      <td>1887.0</td>\n",
       "      <td>...</td>\n",
       "      <td>NaN</td>\n",
       "      <td>NaN</td>\n",
       "      <td>NaN</td>\n",
       "      <td>NaN</td>\n",
       "      <td>NaN</td>\n",
       "      <td>NaN</td>\n",
       "      <td>civic</td>\n",
       "      <td>1875-1899</td>\n",
       "      <td>POLYGON ((103.848 1.297, 103.848 1.297, 103.84...</td>\n",
       "      <td>5.711683e-07</td>\n",
       "    </tr>\n",
       "    <tr>\n",
       "      <th>2</th>\n",
       "      <td>32507125</td>\n",
       "      <td>police</td>\n",
       "      <td>Police Cantonment Complex</td>\n",
       "      <td>yes</td>\n",
       "      <td>391</td>\n",
       "      <td>New Bridge Road</td>\n",
       "      <td>NaN</td>\n",
       "      <td>088762</td>\n",
       "      <td>NaN</td>\n",
       "      <td>2001.0</td>\n",
       "      <td>...</td>\n",
       "      <td>NaN</td>\n",
       "      <td>NaN</td>\n",
       "      <td>NaN</td>\n",
       "      <td>NaN</td>\n",
       "      <td>NaN</td>\n",
       "      <td>NaN</td>\n",
       "      <td>NaN</td>\n",
       "      <td>2000-2024</td>\n",
       "      <td>POLYGON ((103.839 1.279, 103.839 1.279, 103.83...</td>\n",
       "      <td>6.811147e-07</td>\n",
       "    </tr>\n",
       "    <tr>\n",
       "      <th>3</th>\n",
       "      <td>32507157</td>\n",
       "      <td>NaN</td>\n",
       "      <td>NaN</td>\n",
       "      <td>office</td>\n",
       "      <td>11</td>\n",
       "      <td>Outram Road</td>\n",
       "      <td>NaN</td>\n",
       "      <td>169078</td>\n",
       "      <td>NaN</td>\n",
       "      <td>1981.0</td>\n",
       "      <td>...</td>\n",
       "      <td>NaN</td>\n",
       "      <td>NaN</td>\n",
       "      <td>NaN</td>\n",
       "      <td>NaN</td>\n",
       "      <td>NaN</td>\n",
       "      <td>NaN</td>\n",
       "      <td>glass_box</td>\n",
       "      <td>1975-1999</td>\n",
       "      <td>POLYGON ((103.838 1.280, 103.838 1.280, 103.83...</td>\n",
       "      <td>4.196015e-07</td>\n",
       "    </tr>\n",
       "    <tr>\n",
       "      <th>4</th>\n",
       "      <td>32507166</td>\n",
       "      <td>NaN</td>\n",
       "      <td>NaN</td>\n",
       "      <td>public</td>\n",
       "      <td>3</td>\n",
       "      <td>Second Hospital Avenue</td>\n",
       "      <td>Health Promotion Board Building</td>\n",
       "      <td>168937</td>\n",
       "      <td>NaN</td>\n",
       "      <td>1981.0</td>\n",
       "      <td>...</td>\n",
       "      <td>NaN</td>\n",
       "      <td>NaN</td>\n",
       "      <td>NaN</td>\n",
       "      <td>NaN</td>\n",
       "      <td>NaN</td>\n",
       "      <td>NaN</td>\n",
       "      <td>civic</td>\n",
       "      <td>1975-1999</td>\n",
       "      <td>POLYGON ((103.838 1.280, 103.838 1.280, 103.83...</td>\n",
       "      <td>4.833084e-07</td>\n",
       "    </tr>\n",
       "  </tbody>\n",
       "</table>\n",
       "<p>5 rows × 24 columns</p>\n",
       "</div>"
      ],
      "text/plain": [
       "      osmid amenity                          name building addr_house   \n",
       "0  30527021     NaN                Sim Lim Square   retail          1  \\\n",
       "1  32342169     NaN  National Museum of Singapore   public         93   \n",
       "2  32507125  police     Police Cantonment Complex      yes        391   \n",
       "3  32507157     NaN                           NaN   office         11   \n",
       "4  32507166     NaN                           NaN   public          3   \n",
       "\n",
       "               addr_stree                       addr_hou_1 addr_postc   \n",
       "0       Rochor Canal Road                              NaN     188504  \\\n",
       "1           Stamford Road                              NaN     178897   \n",
       "2         New Bridge Road                              NaN     088762   \n",
       "3             Outram Road                              NaN     169078   \n",
       "4  Second Hospital Avenue  Health Promotion Board Building     168937   \n",
       "\n",
       "  building_l  start_date  ... roof_colou roof_mater roof_shape residentia   \n",
       "0          6         NaN  ...        NaN        NaN        NaN        NaN  \\\n",
       "1        NaN      1887.0  ...        NaN        NaN        NaN        NaN   \n",
       "2        NaN      2001.0  ...        NaN        NaN        NaN        NaN   \n",
       "3        NaN      1981.0  ...        NaN        NaN        NaN        NaN   \n",
       "4        NaN      1981.0  ...        NaN        NaN        NaN        NaN   \n",
       "\n",
       "  roof_level addr_neigh build_prog build_ager   \n",
       "0        NaN        NaN   deco_box        NaN  \\\n",
       "1        NaN        NaN      civic  1875-1899   \n",
       "2        NaN        NaN        NaN  2000-2024   \n",
       "3        NaN        NaN  glass_box  1975-1999   \n",
       "4        NaN        NaN      civic  1975-1999   \n",
       "\n",
       "                                            geometry build_footprint  \n",
       "0  POLYGON ((103.853 1.303, 103.853 1.303, 103.85...    4.846470e-07  \n",
       "1  POLYGON ((103.848 1.297, 103.848 1.297, 103.84...    5.711683e-07  \n",
       "2  POLYGON ((103.839 1.279, 103.839 1.279, 103.83...    6.811147e-07  \n",
       "3  POLYGON ((103.838 1.280, 103.838 1.280, 103.83...    4.196015e-07  \n",
       "4  POLYGON ((103.838 1.280, 103.838 1.280, 103.83...    4.833084e-07  \n",
       "\n",
       "[5 rows x 24 columns]"
      ]
     },
     "execution_count": 30,
     "metadata": {},
     "output_type": "execute_result"
    }
   ],
   "source": [
    "gdfx.head()"
   ]
  },
  {
   "cell_type": "code",
   "execution_count": 88,
   "id": "5bb3bfbc",
   "metadata": {},
   "outputs": [
    {
     "name": "stderr",
     "output_type": "stream",
     "text": [
      "C:\\Users\\rromu\\AppData\\Local\\Temp\\ipykernel_2740\\1213618896.py:2: UserWarning: Column names longer than 10 characters will be truncated when saved to ESRI Shapefile.\n",
      "  gdfx.to_file('C:/WORK_IAAC/submissions/Internet of Buildings/IoB_WIP/IoB_QGIS/buildings/buildings_FIN.shp')\n"
     ]
    }
   ],
   "source": [
    "# Save the modified shapefile\n",
    "gdfx.to_file('C:/WORK_IAAC/submissions/Internet of Buildings/IoB_WIP/IoB_QGIS/buildings/buildings_FIN.shp')"
   ]
  },
  {
   "cell_type": "code",
   "execution_count": null,
   "id": "3d051c42",
   "metadata": {},
   "outputs": [],
   "source": []
  }
 ],
 "metadata": {
  "kernelspec": {
   "display_name": "Python 3 (ipykernel)",
   "language": "python",
   "name": "python3"
  },
  "language_info": {
   "codemirror_mode": {
    "name": "ipython",
    "version": 3
   },
   "file_extension": ".py",
   "mimetype": "text/x-python",
   "name": "python",
   "nbconvert_exporter": "python",
   "pygments_lexer": "ipython3",
   "version": "3.9.13"
  }
 },
 "nbformat": 4,
 "nbformat_minor": 5
}
