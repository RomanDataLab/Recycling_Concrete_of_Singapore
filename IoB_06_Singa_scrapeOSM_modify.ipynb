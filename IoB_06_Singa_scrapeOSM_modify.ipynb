{
 "cells": [
  {
   "cell_type": "code",
   "execution_count": 1,
   "id": "86f963ac",
   "metadata": {},
   "outputs": [
    {
     "data": {
      "text/html": [
       "<div>\n",
       "<style scoped>\n",
       "    .dataframe tbody tr th:only-of-type {\n",
       "        vertical-align: middle;\n",
       "    }\n",
       "\n",
       "    .dataframe tbody tr th {\n",
       "        vertical-align: top;\n",
       "    }\n",
       "\n",
       "    .dataframe thead th {\n",
       "        text-align: right;\n",
       "    }\n",
       "</style>\n",
       "<table border=\"1\" class=\"dataframe\">\n",
       "  <thead>\n",
       "    <tr style=\"text-align: right;\">\n",
       "      <th></th>\n",
       "      <th>element_ty</th>\n",
       "      <th>osmid</th>\n",
       "      <th>amenity</th>\n",
       "      <th>name</th>\n",
       "      <th>building</th>\n",
       "      <th>parking</th>\n",
       "      <th>addr_house</th>\n",
       "      <th>addr_stree</th>\n",
       "      <th>brand</th>\n",
       "      <th>operator</th>\n",
       "      <th>...</th>\n",
       "      <th>phone_1</th>\n",
       "      <th>material</th>\n",
       "      <th>bridge</th>\n",
       "      <th>preschool</th>\n",
       "      <th>fast_food</th>\n",
       "      <th>self_servi</th>\n",
       "      <th>demolish_1</th>\n",
       "      <th>house</th>\n",
       "      <th>postal_cod</th>\n",
       "      <th>geometry</th>\n",
       "    </tr>\n",
       "  </thead>\n",
       "  <tbody>\n",
       "    <tr>\n",
       "      <th>113425</th>\n",
       "      <td>relation</td>\n",
       "      <td>11220799</td>\n",
       "      <td>NaN</td>\n",
       "      <td>NaN</td>\n",
       "      <td>commercial</td>\n",
       "      <td>NaN</td>\n",
       "      <td>380</td>\n",
       "      <td>Changi Road</td>\n",
       "      <td>NaN</td>\n",
       "      <td>NaN</td>\n",
       "      <td>...</td>\n",
       "      <td>NaN</td>\n",
       "      <td>NaN</td>\n",
       "      <td>NaN</td>\n",
       "      <td>NaN</td>\n",
       "      <td>NaN</td>\n",
       "      <td>NaN</td>\n",
       "      <td>NaN</td>\n",
       "      <td>NaN</td>\n",
       "      <td>NaN</td>\n",
       "      <td>POLYGON ((103.91073 1.31847, 103.91076 1.31836...</td>\n",
       "    </tr>\n",
       "    <tr>\n",
       "      <th>113426</th>\n",
       "      <td>relation</td>\n",
       "      <td>14084327</td>\n",
       "      <td>NaN</td>\n",
       "      <td>NaN</td>\n",
       "      <td>yes</td>\n",
       "      <td>NaN</td>\n",
       "      <td>NaN</td>\n",
       "      <td>NaN</td>\n",
       "      <td>NaN</td>\n",
       "      <td>NaN</td>\n",
       "      <td>...</td>\n",
       "      <td>NaN</td>\n",
       "      <td>NaN</td>\n",
       "      <td>NaN</td>\n",
       "      <td>NaN</td>\n",
       "      <td>NaN</td>\n",
       "      <td>NaN</td>\n",
       "      <td>NaN</td>\n",
       "      <td>NaN</td>\n",
       "      <td>NaN</td>\n",
       "      <td>POLYGON ((103.93520 1.30690, 103.93527 1.30695...</td>\n",
       "    </tr>\n",
       "    <tr>\n",
       "      <th>113427</th>\n",
       "      <td>way</td>\n",
       "      <td>469394522</td>\n",
       "      <td>NaN</td>\n",
       "      <td>Horsburgh Lighthouse</td>\n",
       "      <td>yes</td>\n",
       "      <td>NaN</td>\n",
       "      <td>NaN</td>\n",
       "      <td>NaN</td>\n",
       "      <td>NaN</td>\n",
       "      <td>NaN</td>\n",
       "      <td>...</td>\n",
       "      <td>NaN</td>\n",
       "      <td>NaN</td>\n",
       "      <td>NaN</td>\n",
       "      <td>NaN</td>\n",
       "      <td>NaN</td>\n",
       "      <td>NaN</td>\n",
       "      <td>NaN</td>\n",
       "      <td>NaN</td>\n",
       "      <td>NaN</td>\n",
       "      <td>POLYGON ((104.40576 1.33021, 104.40578 1.33020...</td>\n",
       "    </tr>\n",
       "    <tr>\n",
       "      <th>113428</th>\n",
       "      <td>way</td>\n",
       "      <td>469394524</td>\n",
       "      <td>NaN</td>\n",
       "      <td>NaN</td>\n",
       "      <td>yes</td>\n",
       "      <td>NaN</td>\n",
       "      <td>NaN</td>\n",
       "      <td>NaN</td>\n",
       "      <td>NaN</td>\n",
       "      <td>NaN</td>\n",
       "      <td>...</td>\n",
       "      <td>NaN</td>\n",
       "      <td>NaN</td>\n",
       "      <td>NaN</td>\n",
       "      <td>NaN</td>\n",
       "      <td>NaN</td>\n",
       "      <td>NaN</td>\n",
       "      <td>NaN</td>\n",
       "      <td>NaN</td>\n",
       "      <td>NaN</td>\n",
       "      <td>POLYGON ((104.40617 1.33031, 104.40612 1.33036...</td>\n",
       "    </tr>\n",
       "    <tr>\n",
       "      <th>113429</th>\n",
       "      <td>way</td>\n",
       "      <td>469394526</td>\n",
       "      <td>NaN</td>\n",
       "      <td>NaN</td>\n",
       "      <td>yes</td>\n",
       "      <td>NaN</td>\n",
       "      <td>NaN</td>\n",
       "      <td>NaN</td>\n",
       "      <td>NaN</td>\n",
       "      <td>NaN</td>\n",
       "      <td>...</td>\n",
       "      <td>NaN</td>\n",
       "      <td>NaN</td>\n",
       "      <td>NaN</td>\n",
       "      <td>NaN</td>\n",
       "      <td>NaN</td>\n",
       "      <td>NaN</td>\n",
       "      <td>NaN</td>\n",
       "      <td>NaN</td>\n",
       "      <td>NaN</td>\n",
       "      <td>POLYGON ((104.40586 1.33040, 104.40596 1.33045...</td>\n",
       "    </tr>\n",
       "  </tbody>\n",
       "</table>\n",
       "<p>5 rows × 220 columns</p>\n",
       "</div>"
      ],
      "text/plain": [
       "       element_ty      osmid amenity                  name    building   \n",
       "113425   relation   11220799     NaN                   NaN  commercial  \\\n",
       "113426   relation   14084327     NaN                   NaN         yes   \n",
       "113427        way  469394522     NaN  Horsburgh Lighthouse         yes   \n",
       "113428        way  469394524     NaN                   NaN         yes   \n",
       "113429        way  469394526     NaN                   NaN         yes   \n",
       "\n",
       "       parking addr_house   addr_stree brand operator  ... phone_1 material   \n",
       "113425     NaN        380  Changi Road   NaN      NaN  ...     NaN      NaN  \\\n",
       "113426     NaN        NaN          NaN   NaN      NaN  ...     NaN      NaN   \n",
       "113427     NaN        NaN          NaN   NaN      NaN  ...     NaN      NaN   \n",
       "113428     NaN        NaN          NaN   NaN      NaN  ...     NaN      NaN   \n",
       "113429     NaN        NaN          NaN   NaN      NaN  ...     NaN      NaN   \n",
       "\n",
       "       bridge preschool fast_food self_servi demolish_1 house postal_cod   \n",
       "113425    NaN       NaN       NaN        NaN        NaN   NaN        NaN  \\\n",
       "113426    NaN       NaN       NaN        NaN        NaN   NaN        NaN   \n",
       "113427    NaN       NaN       NaN        NaN        NaN   NaN        NaN   \n",
       "113428    NaN       NaN       NaN        NaN        NaN   NaN        NaN   \n",
       "113429    NaN       NaN       NaN        NaN        NaN   NaN        NaN   \n",
       "\n",
       "                                                 geometry  \n",
       "113425  POLYGON ((103.91073 1.31847, 103.91076 1.31836...  \n",
       "113426  POLYGON ((103.93520 1.30690, 103.93527 1.30695...  \n",
       "113427  POLYGON ((104.40576 1.33021, 104.40578 1.33020...  \n",
       "113428  POLYGON ((104.40617 1.33031, 104.40612 1.33036...  \n",
       "113429  POLYGON ((104.40586 1.33040, 104.40596 1.33045...  \n",
       "\n",
       "[5 rows x 220 columns]"
      ]
     },
     "execution_count": 1,
     "metadata": {},
     "output_type": "execute_result"
    }
   ],
   "source": [
    "import geopandas as gpd\n",
    "import pandas as pd\n",
    "import numpy as np\n",
    "\n",
    "# Load already updated shapefile\n",
    "gdf = gpd.read_file('C:/WORK_IAAC/submissions/Internet of Buildings/IoB_WIP/IoB_QGIS/buildings/buildings_test.shp', encoding='latin-1')\n",
    "gdf.tail()"
   ]
  },
  {
   "cell_type": "code",
   "execution_count": 5,
   "id": "1dda3dd6",
   "metadata": {},
   "outputs": [
    {
     "data": {
      "text/plain": [
       "array([nan, 'police', 'food_court', 'hospital', 'library',\n",
       "       'place_of_worship', 'bank', 'social_facility', 'conference_centre',\n",
       "       'college', 'restaurant', 'parking', 'shelter', 'clinic', 'fuel',\n",
       "       'theatre', 'toilets', 'fast_food', 'cafe', 'nursing_home',\n",
       "       'childcare', 'music_school', 'bar', 'public_building',\n",
       "       'vehicle_inspection', 'fire_station', 'kindergarten',\n",
       "       'arts_centre', 'marketplace', 'pub', 'ferry_terminal',\n",
       "       'community_centre', 'dressing_room', 'car_wash', 'doctors',\n",
       "       'cinema', 'monastery', 'bus_station', 'waste_transfer_station',\n",
       "       'school', 'studio', 'prep_school', 'car_rental', 'ice_cream',\n",
       "       'language_school', 'events_venue', 'shower', 'clubhouse', 'stage',\n",
       "       'waste_disposal', 'pharmacy', 'atm', 'driving_school',\n",
       "       'commercial', 'crematorium', 'post_office', 'veterinary',\n",
       "       'dentist', 'social_centre', 'university', 'taxi', 'Clubhouse',\n",
       "       'townhall', 'bicycle_rental', 'bicycle_parking'], dtype=object)"
      ]
     },
     "execution_count": 5,
     "metadata": {},
     "output_type": "execute_result"
    }
   ],
   "source": [
    "#how many unique values are in column\n",
    "gdf['amenity'].unique()"
   ]
  },
  {
   "cell_type": "code",
   "execution_count": 6,
   "id": "2c0aa0be",
   "metadata": {},
   "outputs": [
    {
     "data": {
      "text/plain": [
       "110299"
      ]
     },
     "execution_count": 6,
     "metadata": {},
     "output_type": "execute_result"
    }
   ],
   "source": [
    "#check if column values are NaN\n",
    "gdf['amenity'].isna().sum()"
   ]
  },
  {
   "cell_type": "code",
   "execution_count": 4,
   "id": "439f9948",
   "metadata": {},
   "outputs": [
    {
     "data": {
      "text/plain": [
       "1"
      ]
     },
     "execution_count": 4,
     "metadata": {},
     "output_type": "execute_result"
    }
   ],
   "source": [
    "#what is the amount of specific values in the column\n",
    "gdf['material'].value_counts().get('metal', 0)"
   ]
  },
  {
   "cell_type": "code",
   "execution_count": 10,
   "id": "5a587013",
   "metadata": {},
   "outputs": [
    {
     "name": "stdout",
     "output_type": "stream",
     "text": [
      "Index(['parking', 'brand', 'operator', 'mapillary', 'natural', 'barrier',\n",
      "       'lit', 'fee', 'layer', 'colour',\n",
      "       ...\n",
      "       'brewery', 'phone_1', 'material', 'bridge', 'preschool', 'fast_food',\n",
      "       'self_servi', 'demolish_1', 'house', 'postal_cod'],\n",
      "      dtype='object', length=197)\n"
     ]
    }
   ],
   "source": [
    "#drop out columns with less than 1% of non-Nan values to total\n",
    "# get percentage of non-NaN values for each column\n",
    "non_nan_percent = gdf.notna().sum() * 100 / len(gdf)\n",
    "\n",
    "# get index of columns with less than 10% non-NaN values\n",
    "dropped_cols = non_nan_percent[non_nan_percent < 1].index\n",
    "print(dropped_cols)"
   ]
  },
  {
   "cell_type": "code",
   "execution_count": 11,
   "id": "6472a060",
   "metadata": {},
   "outputs": [
    {
     "data": {
      "text/plain": [
       "(113430, 23)"
      ]
     },
     "execution_count": 11,
     "metadata": {},
     "output_type": "execute_result"
    }
   ],
   "source": [
    "#drop columns actually\n",
    "gdf = gdf.drop(columns=dropped_cols)\n",
    "gdf.shape"
   ]
  },
  {
   "cell_type": "code",
   "execution_count": 25,
   "id": "2b99dc14",
   "metadata": {},
   "outputs": [
    {
     "data": {
      "text/html": [
       "<div>\n",
       "<style scoped>\n",
       "    .dataframe tbody tr th:only-of-type {\n",
       "        vertical-align: middle;\n",
       "    }\n",
       "\n",
       "    .dataframe tbody tr th {\n",
       "        vertical-align: top;\n",
       "    }\n",
       "\n",
       "    .dataframe thead th {\n",
       "        text-align: right;\n",
       "    }\n",
       "</style>\n",
       "<table border=\"1\" class=\"dataframe\">\n",
       "  <thead>\n",
       "    <tr style=\"text-align: right;\">\n",
       "      <th></th>\n",
       "      <th>osmid</th>\n",
       "      <th>amenity</th>\n",
       "      <th>name</th>\n",
       "      <th>building</th>\n",
       "      <th>addr_house</th>\n",
       "      <th>addr_stree</th>\n",
       "      <th>addr_hou_1</th>\n",
       "      <th>addr_postc</th>\n",
       "      <th>building_l</th>\n",
       "      <th>start_date</th>\n",
       "      <th>...</th>\n",
       "      <th>building_c</th>\n",
       "      <th>building_m</th>\n",
       "      <th>height</th>\n",
       "      <th>roof_colou</th>\n",
       "      <th>roof_mater</th>\n",
       "      <th>roof_shape</th>\n",
       "      <th>residentia</th>\n",
       "      <th>roof_level</th>\n",
       "      <th>addr_neigh</th>\n",
       "      <th>geometry</th>\n",
       "    </tr>\n",
       "  </thead>\n",
       "  <tbody>\n",
       "    <tr>\n",
       "      <th>0</th>\n",
       "      <td>30527021</td>\n",
       "      <td>NaN</td>\n",
       "      <td>Sim Lim Square</td>\n",
       "      <td>retail</td>\n",
       "      <td>1</td>\n",
       "      <td>Rochor Canal Road</td>\n",
       "      <td>NaN</td>\n",
       "      <td>188504</td>\n",
       "      <td>6</td>\n",
       "      <td>NaN</td>\n",
       "      <td>...</td>\n",
       "      <td>NaN</td>\n",
       "      <td>NaN</td>\n",
       "      <td>NaN</td>\n",
       "      <td>NaN</td>\n",
       "      <td>NaN</td>\n",
       "      <td>NaN</td>\n",
       "      <td>NaN</td>\n",
       "      <td>NaN</td>\n",
       "      <td>NaN</td>\n",
       "      <td>POLYGON ((103.85308 1.30254, 103.85302 1.30259...</td>\n",
       "    </tr>\n",
       "    <tr>\n",
       "      <th>1</th>\n",
       "      <td>32342169</td>\n",
       "      <td>NaN</td>\n",
       "      <td>National Museum of Singapore</td>\n",
       "      <td>public</td>\n",
       "      <td>93</td>\n",
       "      <td>Stamford Road</td>\n",
       "      <td>NaN</td>\n",
       "      <td>178897</td>\n",
       "      <td>NaN</td>\n",
       "      <td>1887</td>\n",
       "      <td>...</td>\n",
       "      <td>NaN</td>\n",
       "      <td>NaN</td>\n",
       "      <td>NaN</td>\n",
       "      <td>NaN</td>\n",
       "      <td>NaN</td>\n",
       "      <td>NaN</td>\n",
       "      <td>NaN</td>\n",
       "      <td>NaN</td>\n",
       "      <td>NaN</td>\n",
       "      <td>POLYGON ((103.84797 1.29710, 103.84808 1.29718...</td>\n",
       "    </tr>\n",
       "    <tr>\n",
       "      <th>2</th>\n",
       "      <td>32507125</td>\n",
       "      <td>police</td>\n",
       "      <td>Police Cantonment Complex</td>\n",
       "      <td>yes</td>\n",
       "      <td>391</td>\n",
       "      <td>New Bridge Road</td>\n",
       "      <td>NaN</td>\n",
       "      <td>088762</td>\n",
       "      <td>NaN</td>\n",
       "      <td>2001</td>\n",
       "      <td>...</td>\n",
       "      <td>NaN</td>\n",
       "      <td>NaN</td>\n",
       "      <td>0</td>\n",
       "      <td>NaN</td>\n",
       "      <td>NaN</td>\n",
       "      <td>NaN</td>\n",
       "      <td>NaN</td>\n",
       "      <td>NaN</td>\n",
       "      <td>NaN</td>\n",
       "      <td>POLYGON ((103.83885 1.27855, 103.83912 1.27869...</td>\n",
       "    </tr>\n",
       "    <tr>\n",
       "      <th>3</th>\n",
       "      <td>32507157</td>\n",
       "      <td>NaN</td>\n",
       "      <td>NaN</td>\n",
       "      <td>office</td>\n",
       "      <td>11</td>\n",
       "      <td>Outram Road</td>\n",
       "      <td>NaN</td>\n",
       "      <td>169078</td>\n",
       "      <td>NaN</td>\n",
       "      <td>1981</td>\n",
       "      <td>...</td>\n",
       "      <td>NaN</td>\n",
       "      <td>NaN</td>\n",
       "      <td>0</td>\n",
       "      <td>NaN</td>\n",
       "      <td>NaN</td>\n",
       "      <td>NaN</td>\n",
       "      <td>NaN</td>\n",
       "      <td>NaN</td>\n",
       "      <td>NaN</td>\n",
       "      <td>POLYGON ((103.83794 1.28024, 103.83794 1.28044...</td>\n",
       "    </tr>\n",
       "    <tr>\n",
       "      <th>4</th>\n",
       "      <td>32507166</td>\n",
       "      <td>NaN</td>\n",
       "      <td>NaN</td>\n",
       "      <td>public</td>\n",
       "      <td>3</td>\n",
       "      <td>Second Hospital Avenue</td>\n",
       "      <td>Health Promotion Board Building</td>\n",
       "      <td>168937</td>\n",
       "      <td>NaN</td>\n",
       "      <td>1981</td>\n",
       "      <td>...</td>\n",
       "      <td>NaN</td>\n",
       "      <td>NaN</td>\n",
       "      <td>0</td>\n",
       "      <td>NaN</td>\n",
       "      <td>NaN</td>\n",
       "      <td>NaN</td>\n",
       "      <td>NaN</td>\n",
       "      <td>NaN</td>\n",
       "      <td>NaN</td>\n",
       "      <td>POLYGON ((103.83840 1.27965, 103.83823 1.27965...</td>\n",
       "    </tr>\n",
       "  </tbody>\n",
       "</table>\n",
       "<p>5 rows × 21 columns</p>\n",
       "</div>"
      ],
      "text/plain": [
       "      osmid amenity                          name building addr_house   \n",
       "0  30527021     NaN                Sim Lim Square   retail          1  \\\n",
       "1  32342169     NaN  National Museum of Singapore   public         93   \n",
       "2  32507125  police     Police Cantonment Complex      yes        391   \n",
       "3  32507157     NaN                           NaN   office         11   \n",
       "4  32507166     NaN                           NaN   public          3   \n",
       "\n",
       "               addr_stree                       addr_hou_1 addr_postc   \n",
       "0       Rochor Canal Road                              NaN     188504  \\\n",
       "1           Stamford Road                              NaN     178897   \n",
       "2         New Bridge Road                              NaN     088762   \n",
       "3             Outram Road                              NaN     169078   \n",
       "4  Second Hospital Avenue  Health Promotion Board Building     168937   \n",
       "\n",
       "  building_l start_date  ... building_c building_m height roof_colou   \n",
       "0          6        NaN  ...        NaN        NaN    NaN        NaN  \\\n",
       "1        NaN       1887  ...        NaN        NaN    NaN        NaN   \n",
       "2        NaN       2001  ...        NaN        NaN      0        NaN   \n",
       "3        NaN       1981  ...        NaN        NaN      0        NaN   \n",
       "4        NaN       1981  ...        NaN        NaN      0        NaN   \n",
       "\n",
       "  roof_mater roof_shape residentia roof_level addr_neigh   \n",
       "0        NaN        NaN        NaN        NaN        NaN  \\\n",
       "1        NaN        NaN        NaN        NaN        NaN   \n",
       "2        NaN        NaN        NaN        NaN        NaN   \n",
       "3        NaN        NaN        NaN        NaN        NaN   \n",
       "4        NaN        NaN        NaN        NaN        NaN   \n",
       "\n",
       "                                            geometry  \n",
       "0  POLYGON ((103.85308 1.30254, 103.85302 1.30259...  \n",
       "1  POLYGON ((103.84797 1.29710, 103.84808 1.29718...  \n",
       "2  POLYGON ((103.83885 1.27855, 103.83912 1.27869...  \n",
       "3  POLYGON ((103.83794 1.28024, 103.83794 1.28044...  \n",
       "4  POLYGON ((103.83840 1.27965, 103.83823 1.27965...  \n",
       "\n",
       "[5 rows x 21 columns]"
      ]
     },
     "execution_count": 25,
     "metadata": {},
     "output_type": "execute_result"
    }
   ],
   "source": [
    "gdf.head()"
   ]
  },
  {
   "cell_type": "code",
   "execution_count": 28,
   "id": "ec8e595f",
   "metadata": {},
   "outputs": [
    {
     "data": {
      "text/plain": [
       "array([nan, 'lightgrey', '#b9ac99', '#44403D', '#736354', 'grey',\n",
       "       '#797459', '#957376', '#666633', '#948d7c', '#7d7f7e', '#7b898f',\n",
       "       'beige', '#507084', '#ff3333', '#bb7961', '#929293', '#dbdcdf',\n",
       "       '#65749F', 'cyan', '#965a2f', '#c17a57', '#9A9681', '#707565',\n",
       "       '#d3cfc0', '#6a6f72', '#8b8e88', '#95908d', '#676e74', '#cac9c7',\n",
       "       '#534d4d', '#c8c4b9', '#9aa4ad', '#c66b56', '#cfc0a1', '#E4E6E7',\n",
       "       '#444848', '#649354', '#9AAA95', '#566684', '#ad9585', '#a4a69e',\n",
       "       '#f9fdfe', '#a6b1ac', '#e7e6e3', '#4c5e69', '#f8f6f0', 'black',\n",
       "       '#945752', '#D6DADB', 'darkgrey', '#c5cdd0', '#7c8579', '#9099a0',\n",
       "       '#62656A', '#c3bda9', '#8C9199', '#A87B64', '#467852', '#c27e6f',\n",
       "       '#b4b7b1', '#989792', '#8d9498', '#504340', '#769fa8', '#f5f6f4',\n",
       "       '#90898b', '#927b81', '#EBE4D3', '#f1d6cd', '#8a8884', '#5d6166',\n",
       "       '#4c605c', '#4c4a4a', '#c4bfb9', '#E4E4E4', '#E48B89', '#C8B8A7',\n",
       "       '#D3D7D9', '#ae5852', '#53b8d3', '#E2897E', '#76c82e', '#BDB6AD',\n",
       "       '#cdd8aa', '#646767', '#99a790', 'brown', '#BDB8B5', '#FFFFFF',\n",
       "       '#e7eadd', '#dae0d2', '#f0f3ed', '#d46a6d', '#899591', '#989675',\n",
       "       '#89898e', '#BCAFA2', '#585949', 'red', '#ea5e2f', 'Grey',\n",
       "       '#565254', '#586f73', '#425f51', '#424d4b', 'orange', '#c2bcde',\n",
       "       '#b67b64', '#b2bebf', '#9fd9eb', 'lightgreen', '#4d5758',\n",
       "       '#b2bdbd', '#30bb37', '#ccd5d3', '#6a6d7b', '#cacabd', '#84735e',\n",
       "       '#dbe4e4', '#8C8889', '#A59E8E', '#C19E74', '#A2898F', '#585953',\n",
       "       '#CED4E2', '#9498A0', '#416A8A', '#484B54', '#5d7877', '#dadace',\n",
       "       '#9A9586', '#d6dcbe', '#798D52', '#b49695', '#CEC3C1', '#707477',\n",
       "       '#B6B5BA', '#BDBAB5', '#AFAEC0', '#91ACC6', '#384847', '#262E37',\n",
       "       '#64696C', '#B4B6C4', '#c3c6c2', '#eaf4f2', 'white', '#B5886E',\n",
       "       '#C2B197', '#717e88', '#e8907d', '#546472', '#968475', '#383e57',\n",
       "       '#c0c8dd', 'maroon', '#5A7D94', '#c7d2c9', '#8e7c74', '#827d77',\n",
       "       '#6a7573', '#887979', '#797e7d', '#9fc0bb', '#beb9bb', '#bbaba7',\n",
       "       '#4093e7', '#846367', '#777976', '#d1d5b6', '#acc0c0', '#8A93A8',\n",
       "       'green', 'black_(solar)', 'blue', '#FAF6F1', '#86accf', '#9798a9',\n",
       "       '#d0cbc4', '#cccec3', '#514D3B', '#859AB9', '#A07670', '#686D70',\n",
       "       '#868580', '#948CA1', '#8E998A', '#A5849A', 'teal', '#506674',\n",
       "       '#99978F', '#D8E1DE', '#C7C4B8', '#f8d0a9', '#94A68C', '#D6BA8B',\n",
       "       '#45423D', '#c2b9ae', '#91a2bb', '#373e60', '#82bdf2', '#9EA1B2',\n",
       "       '#59524c', '#a57866', '#979a9d', '#d56a53', '#91595d', '#BE5748',\n",
       "       '#74665D', '#6061A4', 'navy', 'lightgray', '#b999a1', '#6A6C67',\n",
       "       '#C8CAC7', '#77776F', '#A2A0A0', '#e26c4d', '#b1a283', '#3A3435',\n",
       "       '#efefe3', '#0b6623', '#A1BEC2', '#444849', '#EAE6E7', '#4F5C7C',\n",
       "       '#81510e', '#55429a', '#796e5c', '#ac6f79', '#DAE5DF', '#905E4E',\n",
       "       '#4A5255', '#42437C', '#df5151', '#849052', '#E1E2D7', '#c07a60',\n",
       "       '#b27b66', '#D0978E', '#516272', '#8f6a75', '#dba28f', '#858988',\n",
       "       '#F7D4B2', '#6F6C67', '#87A5C1', '#848a9d', '#5A8689', '#D35E43',\n",
       "       '#dc796f', '#985a6b', '#C2C4D3', '#A9A7A8', '#8b7979', '#882d26',\n",
       "       '#5B625A', '#4D71B5', '#A7A889', '#9B9A98', '#B8D7DB', '#657745'],\n",
       "      dtype=object)"
      ]
     },
     "execution_count": 28,
     "metadata": {},
     "output_type": "execute_result"
    }
   ],
   "source": [
    "#how many unique values are in column\n",
    "gdf['roof_colou'].unique()"
   ]
  },
  {
   "cell_type": "code",
   "execution_count": 27,
   "id": "ec3270fa",
   "metadata": {},
   "outputs": [
    {
     "data": {
      "text/plain": [
       "Index(['osmid', 'amenity', 'name', 'building', 'addr_house', 'addr_stree',\n",
       "       'addr_hou_1', 'addr_postc', 'building_l', 'start_date', 'addr_count',\n",
       "       'building_c', 'building_m', 'height', 'roof_colou', 'roof_mater',\n",
       "       'roof_shape', 'residentia', 'roof_level', 'addr_neigh', 'geometry'],\n",
       "      dtype='object')"
      ]
     },
     "execution_count": 27,
     "metadata": {},
     "output_type": "execute_result"
    }
   ],
   "source": [
    "gdf.keys()"
   ]
  },
  {
   "cell_type": "code",
   "execution_count": 31,
   "id": "7eb09ad6",
   "metadata": {},
   "outputs": [
    {
     "name": "stdout",
     "output_type": "stream",
     "text": [
      "{'e', '_', 'a', 'v', 'g', 's', 'o', 'u', 'i', 'h', 'f', 'p', 'l', 't', 'y', 'm', 'd', '1', 'n', 'b', 'c', 'r'}\n"
     ]
    }
   ],
   "source": [
    "#find non-coincident values from 2 columns of geopandas except NaN\n",
    "nan_mask = gdf[['building_c', 'roof_colou']].isna().all(axis=1)\n",
    "\n",
    "# get a mask indicating which rows have coincident values in both columns\n",
    "coincident_mask = gdf[['building_c', 'roof_colou']].apply(lambda x: x[0] == x[1] if not x.isna().any() else False, axis=1)\n",
    "\n",
    "# get a mask indicating which rows have non-coincident values in both columns, except NaN values\n",
    "non_coincident_mask = ~(nan_mask | coincident_mask)\n",
    "\n",
    "# create a new dataframe with non-coincident values\n",
    "df3 = gdf[non_coincident_mask]\n",
    "\n",
    "import itertools\n",
    "unique_values = set(itertools.chain(*df3))\n",
    "\n",
    "print(unique_values)"
   ]
  },
  {
   "cell_type": "code",
   "execution_count": 23,
   "id": "08617a01",
   "metadata": {},
   "outputs": [
    {
     "data": {
      "text/plain": [
       "112273"
      ]
     },
     "execution_count": 23,
     "metadata": {},
     "output_type": "execute_result"
    }
   ],
   "source": [
    "#check if column values are NaN\n",
    "gdf['building_m'].isna().sum()"
   ]
  },
  {
   "cell_type": "code",
   "execution_count": 24,
   "id": "03bab0b9",
   "metadata": {},
   "outputs": [
    {
     "data": {
      "text/plain": [
       "90"
      ]
     },
     "execution_count": 24,
     "metadata": {},
     "output_type": "execute_result"
    }
   ],
   "source": [
    "#what is the amount of specific values in the column\n",
    "gdf['building_m'].value_counts().get('metal', 0)"
   ]
  },
  {
   "cell_type": "code",
   "execution_count": 18,
   "id": "d02a84f0",
   "metadata": {},
   "outputs": [],
   "source": [
    "#USE only if you are aware!!!!!\n",
    "gdf = gdf.drop(columns=['addr_city'])"
   ]
  },
  {
   "cell_type": "code",
   "execution_count": 35,
   "id": "5813a252",
   "metadata": {},
   "outputs": [
    {
     "name": "stdout",
     "output_type": "stream",
     "text": [
      "<class 'geopandas.geodataframe.GeoDataFrame'>\n",
      "RangeIndex: 113430 entries, 0 to 113429\n",
      "Data columns (total 21 columns):\n",
      " #   Column      Non-Null Count   Dtype   \n",
      "---  ------      --------------   -----   \n",
      " 0   osmid       113430 non-null  int64   \n",
      " 1   amenity     3131 non-null    object  \n",
      " 2   name        11262 non-null   object  \n",
      " 3   building    113430 non-null  object  \n",
      " 4   addr_house  54368 non-null   object  \n",
      " 5   addr_stree  49929 non-null   object  \n",
      " 6   addr_hou_1  1455 non-null    object  \n",
      " 7   addr_postc  16243 non-null   object  \n",
      " 8   building_l  23018 non-null   object  \n",
      " 9   start_date  3618 non-null    object  \n",
      " 10  addr_count  31331 non-null   object  \n",
      " 11  building_c  1378 non-null    object  \n",
      " 12  building_m  1157 non-null    object  \n",
      " 13  height      4214 non-null    object  \n",
      " 14  roof_colou  3241 non-null    object  \n",
      " 15  roof_mater  3090 non-null    object  \n",
      " 16  roof_shape  2126 non-null    object  \n",
      " 17  residentia  7709 non-null    object  \n",
      " 18  roof_level  1801 non-null    object  \n",
      " 19  addr_neigh  2968 non-null    object  \n",
      " 20  geometry    113430 non-null  geometry\n",
      "dtypes: geometry(1), int64(1), object(19)\n",
      "memory usage: 18.2+ MB\n"
     ]
    }
   ],
   "source": [
    "gdf.info()"
   ]
  },
  {
   "cell_type": "code",
   "execution_count": 32,
   "id": "6172c1c4",
   "metadata": {},
   "outputs": [
    {
     "data": {
      "image/png": "[encoded data removed]",
      "text/plain": [
       "<Figure size 640x480 with 1 Axes>"
      ]
     },
     "metadata": {},
     "output_type": "display_data"
    }
   ],
   "source": [
    "import pandas as pd\n",
    "import matplotlib.pyplot as plt\n",
    "\n",
    "# get the count of non-NaN values for each column\n",
    "non_nan_count = gdf.count()\n",
    "\n",
    "# create a bar plot of non-NaN counts with red color\n",
    "ax = non_nan_count.plot(kind='bar', color='red')\n",
    "\n",
    "# set the x-label and y-label\n",
    "ax.set_xlabel('Columns')\n",
    "ax.set_ylabel('Number of non-NaN values')\n",
    "\n",
    "plt.show()"
   ]
  },
  {
   "cell_type": "code",
   "execution_count": 33,
   "id": "03cf1b6b",
   "metadata": {},
   "outputs": [],
   "source": [
    "# Save the modified shapefile\n",
    "gdf.to_file('C:/WORK_IAAC/submissions/Internet of Buildings/IoB_WIP/IoB_QGIS/buildings/buildings_test.shp')"
   ]
  },
  {
   "cell_type": "code",
   "execution_count": null,
   "id": "777b654d",
   "metadata": {},
   "outputs": [],
   "source": []
  }
 ],
 "metadata": {
  "kernelspec": {
   "display_name": "Python 3 (ipykernel)",
   "language": "python",
   "name": "python3"
  },
  "language_info": {
   "codemirror_mode": {
    "name": "ipython",
    "version": 3
   },
   "file_extension": ".py",
   "mimetype": "text/x-python",
   "name": "python",
   "nbconvert_exporter": "python",
   "pygments_lexer": "ipython3",
   "version": "3.9.13"
  }
 },
 "nbformat": 4,
 "nbformat_minor": 5
}
