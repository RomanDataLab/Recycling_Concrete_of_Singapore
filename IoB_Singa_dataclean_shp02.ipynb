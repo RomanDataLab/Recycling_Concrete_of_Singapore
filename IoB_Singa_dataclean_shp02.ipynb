{
 "cells": [
  {
   "cell_type": "code",
   "execution_count": 114,
   "id": "b482448a",
   "metadata": {},
   "outputs": [
    {
     "data": {
      "text/html": [
       "<div>\n",
       "<style scoped>\n",
       "    .dataframe tbody tr th:only-of-type {\n",
       "        vertical-align: middle;\n",
       "    }\n",
       "\n",
       "    .dataframe tbody tr th {\n",
       "        vertical-align: top;\n",
       "    }\n",
       "\n",
       "    .dataframe thead th {\n",
       "        text-align: right;\n",
       "    }\n",
       "</style>\n",
       "<table border=\"1\" class=\"dataframe\">\n",
       "  <thead>\n",
       "    <tr style=\"text-align: right;\">\n",
       "      <th></th>\n",
       "      <th>osm_id</th>\n",
       "      <th>addr_stree</th>\n",
       "      <th>addr_house</th>\n",
       "      <th>building_l</th>\n",
       "      <th>building</th>\n",
       "      <th>name</th>\n",
       "      <th>build_prog</th>\n",
       "      <th>geometry</th>\n",
       "    </tr>\n",
       "  </thead>\n",
       "  <tbody>\n",
       "    <tr>\n",
       "      <th>113137</th>\n",
       "      <td>1.158969e+09</td>\n",
       "      <td>NaN</td>\n",
       "      <td>NaN</td>\n",
       "      <td>NaN</td>\n",
       "      <td>yes</td>\n",
       "      <td>noname</td>\n",
       "      <td>unknown</td>\n",
       "      <td>POLYGON ((103.78102 1.40789, 103.78103 1.40803...</td>\n",
       "    </tr>\n",
       "    <tr>\n",
       "      <th>113138</th>\n",
       "      <td>1.158969e+09</td>\n",
       "      <td>NaN</td>\n",
       "      <td>NaN</td>\n",
       "      <td>NaN</td>\n",
       "      <td>yes</td>\n",
       "      <td>noname</td>\n",
       "      <td>unknown</td>\n",
       "      <td>POLYGON ((103.78086 1.40790, 103.78090 1.40803...</td>\n",
       "    </tr>\n",
       "    <tr>\n",
       "      <th>113139</th>\n",
       "      <td>1.158969e+09</td>\n",
       "      <td>NaN</td>\n",
       "      <td>NaN</td>\n",
       "      <td>NaN</td>\n",
       "      <td>yes</td>\n",
       "      <td>noname</td>\n",
       "      <td>unknown</td>\n",
       "      <td>POLYGON ((103.78068 1.40798, 103.78071 1.40806...</td>\n",
       "    </tr>\n",
       "    <tr>\n",
       "      <th>113140</th>\n",
       "      <td>1.158969e+09</td>\n",
       "      <td>NaN</td>\n",
       "      <td>NaN</td>\n",
       "      <td>NaN</td>\n",
       "      <td>yes</td>\n",
       "      <td>noname</td>\n",
       "      <td>unknown</td>\n",
       "      <td>POLYGON ((103.78046 1.40785, 103.78061 1.40798...</td>\n",
       "    </tr>\n",
       "    <tr>\n",
       "      <th>113141</th>\n",
       "      <td>1.158969e+09</td>\n",
       "      <td>NaN</td>\n",
       "      <td>NaN</td>\n",
       "      <td>1</td>\n",
       "      <td>yes</td>\n",
       "      <td>noname</td>\n",
       "      <td>unknown</td>\n",
       "      <td>POLYGON ((103.77981 1.40798, 103.77984 1.40807...</td>\n",
       "    </tr>\n",
       "  </tbody>\n",
       "</table>\n",
       "</div>"
      ],
      "text/plain": [
       "              osm_id addr_stree addr_house building_l building    name   \n",
       "113137  1.158969e+09        NaN        NaN        NaN      yes  noname  \\\n",
       "113138  1.158969e+09        NaN        NaN        NaN      yes  noname   \n",
       "113139  1.158969e+09        NaN        NaN        NaN      yes  noname   \n",
       "113140  1.158969e+09        NaN        NaN        NaN      yes  noname   \n",
       "113141  1.158969e+09        NaN        NaN          1      yes  noname   \n",
       "\n",
       "       build_prog                                           geometry  \n",
       "113137    unknown  POLYGON ((103.78102 1.40789, 103.78103 1.40803...  \n",
       "113138    unknown  POLYGON ((103.78086 1.40790, 103.78090 1.40803...  \n",
       "113139    unknown  POLYGON ((103.78068 1.40798, 103.78071 1.40806...  \n",
       "113140    unknown  POLYGON ((103.78046 1.40785, 103.78061 1.40798...  \n",
       "113141    unknown  POLYGON ((103.77981 1.40798, 103.77984 1.40807...  "
      ]
     },
     "execution_count": 114,
     "metadata": {},
     "output_type": "execute_result"
    }
   ],
   "source": [
    "import geopandas as gpd\n",
    "\n",
    "# Load already updated shapefile\n",
    "gdf = gpd.read_file('C:/WORK_IAAC/submissions/Internet of Buildings/IoB_WIP/IoB_QGIS/buildings/buildings_FIN.shp', encoding='latin-1')\n",
    "gdf.tail()"
   ]
  },
  {
   "cell_type": "code",
   "execution_count": 59,
   "id": "cf8d2b4a",
   "metadata": {},
   "outputs": [
    {
     "data": {
      "text/plain": [
       "array(['train_station', 'civic', 'transportation', 'retail', 'public',\n",
       "       'commercial', 'yes', 'office', 'college', 'industrial', 'market',\n",
       "       'government', 'hospital', 'apartments', 'residential', 'hotel',\n",
       "       'house', 'garage', 'temple', 'university', 'residential_senior',\n",
       "       'social_club', 'warehouse', 'service', 'school', 'socialclub',\n",
       "       'grandstand', 'greenhouse', 'medical', 'roof', 'parking',\n",
       "       'sports_centre', 'mosque', 'scientific', 'hangar', 'church',\n",
       "       'shop', 'cultural', 'hut', 'columbarium', 'construction', 'cafe',\n",
       "       'manufacture', 'boathouse', 'dormitory', 'terrace',\n",
       "       'semidetached_house', 'toilets', 'ruins', 'kindergarten',\n",
       "       'detached', 'swimming_pool_changing_room', 'fastfood',\n",
       "       'fire_station', 'religious', 'parlour', 'mix_used', 'education',\n",
       "       'recreational', 'shed', 'stable', 'gazebo', 'shrine',\n",
       "       'CET_Campus_East', 'wayside_shrine', 'EiS_Residences', 'stadium',\n",
       "       'farm_auxiliary', 'bungalow', 'chapel', 'hall', 'carport',\n",
       "       'guardhouse', 'no', 'multi-purpose_stage', 'security', 'pavilion',\n",
       "       'seasonal', 'pagoda', 'switchroom', 'garages', 'Security_Post',\n",
       "       'supermarket', 'bridge', 'jtc_nanospace', 'gatehouse',\n",
       "       'multi-purpose_hall', 'tent', 'storage', 'shelter', 'utility',\n",
       "       'tourism'], dtype=object)"
      ]
     },
     "execution_count": 59,
     "metadata": {},
     "output_type": "execute_result"
    }
   ],
   "source": [
    "gdf['building'].unique()"
   ]
  },
  {
   "cell_type": "code",
   "execution_count": 107,
   "id": "9967db60",
   "metadata": {},
   "outputs": [
    {
     "data": {
      "text/html": [
       "<div>\n",
       "<style scoped>\n",
       "    .dataframe tbody tr th:only-of-type {\n",
       "        vertical-align: middle;\n",
       "    }\n",
       "\n",
       "    .dataframe tbody tr th {\n",
       "        vertical-align: top;\n",
       "    }\n",
       "\n",
       "    .dataframe thead th {\n",
       "        text-align: right;\n",
       "    }\n",
       "</style>\n",
       "<table border=\"1\" class=\"dataframe\">\n",
       "  <thead>\n",
       "    <tr style=\"text-align: right;\">\n",
       "      <th></th>\n",
       "      <th>fid</th>\n",
       "      <th>osm_id</th>\n",
       "      <th>addr_stree</th>\n",
       "      <th>addr_house</th>\n",
       "      <th>building_l</th>\n",
       "      <th>building</th>\n",
       "      <th>name</th>\n",
       "      <th>addr_city</th>\n",
       "      <th>office</th>\n",
       "      <th>geometry</th>\n",
       "      <th>build_program</th>\n",
       "    </tr>\n",
       "  </thead>\n",
       "  <tbody>\n",
       "    <tr>\n",
       "      <th>0</th>\n",
       "      <td>1.0</td>\n",
       "      <td>22875450.0</td>\n",
       "      <td>NaN</td>\n",
       "      <td>NaN</td>\n",
       "      <td>NaN</td>\n",
       "      <td>train_station</td>\n",
       "      <td>noname</td>\n",
       "      <td>NaN</td>\n",
       "      <td>NaN</td>\n",
       "      <td>POLYGON ((103.74901 1.34852, 103.74912 1.34866...</td>\n",
       "      <td>transport</td>\n",
       "    </tr>\n",
       "    <tr>\n",
       "      <th>1</th>\n",
       "      <td>2.0</td>\n",
       "      <td>22886442.0</td>\n",
       "      <td>Boon Lay Way</td>\n",
       "      <td>301</td>\n",
       "      <td>NaN</td>\n",
       "      <td>train_station</td>\n",
       "      <td>noname</td>\n",
       "      <td>Singapore</td>\n",
       "      <td>NaN</td>\n",
       "      <td>POLYGON ((103.70508 1.33839, 103.70518 1.33842...</td>\n",
       "      <td>transport</td>\n",
       "    </tr>\n",
       "    <tr>\n",
       "      <th>2</th>\n",
       "      <td>3.0</td>\n",
       "      <td>24680746.0</td>\n",
       "      <td>NaN</td>\n",
       "      <td>NaN</td>\n",
       "      <td>NaN</td>\n",
       "      <td>civic</td>\n",
       "      <td>noname</td>\n",
       "      <td>NaN</td>\n",
       "      <td>NaN</td>\n",
       "      <td>POLYGON ((103.88773 1.37072, 103.88788 1.37084...</td>\n",
       "      <td>civic</td>\n",
       "    </tr>\n",
       "    <tr>\n",
       "      <th>3</th>\n",
       "      <td>4.0</td>\n",
       "      <td>26561741.0</td>\n",
       "      <td>Airport Boulevard</td>\n",
       "      <td>80</td>\n",
       "      <td>3</td>\n",
       "      <td>transportation</td>\n",
       "      <td>Changi Airport Terminal 1</td>\n",
       "      <td>Singapore</td>\n",
       "      <td>NaN</td>\n",
       "      <td>POLYGON ((103.98765 1.36006, 103.98854 1.36213...</td>\n",
       "      <td>transport</td>\n",
       "    </tr>\n",
       "    <tr>\n",
       "      <th>4</th>\n",
       "      <td>5.0</td>\n",
       "      <td>30527021.0</td>\n",
       "      <td>Rochor Canal Road</td>\n",
       "      <td>1</td>\n",
       "      <td>6</td>\n",
       "      <td>retail</td>\n",
       "      <td>Sim Lim Square</td>\n",
       "      <td>Singapore</td>\n",
       "      <td>NaN</td>\n",
       "      <td>POLYGON ((103.85254 1.30299, 103.85267 1.30316...</td>\n",
       "      <td>deco_box</td>\n",
       "    </tr>\n",
       "  </tbody>\n",
       "</table>\n",
       "</div>"
      ],
      "text/plain": [
       "   fid      osm_id         addr_stree addr_house building_l        building   \n",
       "0  1.0  22875450.0                NaN        NaN        NaN   train_station  \\\n",
       "1  2.0  22886442.0       Boon Lay Way        301        NaN   train_station   \n",
       "2  3.0  24680746.0                NaN        NaN        NaN           civic   \n",
       "3  4.0  26561741.0  Airport Boulevard         80          3  transportation   \n",
       "4  5.0  30527021.0  Rochor Canal Road          1          6          retail   \n",
       "\n",
       "                        name  addr_city office   \n",
       "0                     noname        NaN    NaN  \\\n",
       "1                     noname  Singapore    NaN   \n",
       "2                     noname        NaN    NaN   \n",
       "3  Changi Airport Terminal 1  Singapore    NaN   \n",
       "4             Sim Lim Square  Singapore    NaN   \n",
       "\n",
       "                                            geometry build_program  \n",
       "0  POLYGON ((103.74901 1.34852, 103.74912 1.34866...     transport  \n",
       "1  POLYGON ((103.70508 1.33839, 103.70518 1.33842...     transport  \n",
       "2  POLYGON ((103.88773 1.37072, 103.88788 1.37084...         civic  \n",
       "3  POLYGON ((103.98765 1.36006, 103.98854 1.36213...     transport  \n",
       "4  POLYGON ((103.85254 1.30299, 103.85267 1.30316...      deco_box  "
      ]
     },
     "execution_count": 107,
     "metadata": {},
     "output_type": "execute_result"
    }
   ],
   "source": [
    "gdf.head()"
   ]
  },
  {
   "cell_type": "code",
   "execution_count": 109,
   "id": "09acec4d",
   "metadata": {},
   "outputs": [
    {
     "data": {
      "text/plain": [
       "array([nan, 'Singapore', 'Pulau Ubin, Singapore', 'Sembawang',\n",
       "       'Ang Mo Kio', 'singapore', 'Woodlands', 'Woodlands Spectrum II',\n",
       "       'Yishun', 'SG', '<different>', '563455', 'Singapoer', 'SINGAPORE',\n",
       "       'SIngapore'], dtype=object)"
      ]
     },
     "execution_count": 109,
     "metadata": {},
     "output_type": "execute_result"
    }
   ],
   "source": [
    "gdf['addr_city'].unique()"
   ]
  },
  {
   "cell_type": "code",
   "execution_count": 51,
   "id": "6c76f074",
   "metadata": {},
   "outputs": [
    {
     "data": {
      "text/plain": [
       "90326"
      ]
     },
     "execution_count": 51,
     "metadata": {},
     "output_type": "execute_result"
    }
   ],
   "source": [
    "#check if column values are NaN\n",
    "gdf['source'].isna().sum()"
   ]
  },
  {
   "cell_type": "code",
   "execution_count": 52,
   "id": "2556ff55",
   "metadata": {},
   "outputs": [
    {
     "data": {
      "text/plain": [
       "72396"
      ]
     },
     "execution_count": 52,
     "metadata": {},
     "output_type": "execute_result"
    }
   ],
   "source": [
    "#count total number of no-value rows in building column\n",
    "gdf['building'].value_counts().get('yes', 0)"
   ]
  },
  {
   "cell_type": "code",
   "execution_count": 53,
   "id": "120de31f",
   "metadata": {},
   "outputs": [
    {
     "data": {
      "text/plain": [
       "113142"
      ]
     },
     "execution_count": 53,
     "metadata": {},
     "output_type": "execute_result"
    }
   ],
   "source": [
    "#count total number of rows in building column\n",
    "gdf.shape[0]"
   ]
  },
  {
   "cell_type": "code",
   "execution_count": 57,
   "id": "75e76bf7",
   "metadata": {},
   "outputs": [
    {
     "data": {
      "text/plain": [
       "12"
      ]
     },
     "execution_count": 57,
     "metadata": {},
     "output_type": "execute_result"
    }
   ],
   "source": [
    "#replace function type in column 'building' by mask from 'name' if 'building' has no value ('yes')\n",
    "word = 'cafe'\n",
    "mask = gdf['name'].str.contains('Cafe', case=False)\n",
    "gdf.loc[mask & ((gdf['building'] == 'yes') | (gdf['building'] == 'no')), 'building'] = word\n",
    "#check the difference before and after\n",
    "gdf['building'].value_counts().get(word, 0)"
   ]
  },
  {
   "cell_type": "code",
   "execution_count": 61,
   "id": "661f1d0f",
   "metadata": {},
   "outputs": [],
   "source": [
    "#add column with current building program or function\n",
    "#residential_highrise, residential_lowrise, civic, small_box, deco_box, education, glass_box, religious, sport, ruins, construction_site, transport, industrial, medic \n",
    "def map_values(x):\n",
    "    if x in ['residential', 'apartments','EiS_Residences','mix_used','dormitory','hotel','residential_senior']:\n",
    "        return 'resident_high'\n",
    "    elif x in ['house', 'shelter', 'bungalow','hut','terrace','semidetached_house','detached','hall']:\n",
    "        return 'resident_low'\n",
    "    elif x in ['civic', 'public', 'social_club','socialclub','government','scientific','columbarium','fire_station','jtc_nanospace','tourism']:\n",
    "        return 'civic'\n",
    "    elif x in ['garage', 'service','roof','hangar','shop','cafe','toilets','fastfood','parlour','shed','gazebo','farm_auxiliary','guardhouse','security','seasonal','Security_Post','gatehouse','tent','shelter', 'utility']:\n",
    "        return 'small_box'\n",
    "    elif x in ['retail', 'commercial','market', 'warehouse','cultural','recreational','multi-purpose_stage','pavilion','supermarket','multi-purpose_hall']:\n",
    "        return 'deco_box'\n",
    "    elif x in ['college', 'university','school','kindergarten','education','CET_Campus_East']:\n",
    "        return 'education'\n",
    "    elif x in ['office', 'greenhouse']:\n",
    "        return 'glass_box' \n",
    "    elif x in ['temple', 'mosque','church','religious','wayside_shrine','chapel','pagoda']:\n",
    "        return 'religious' \n",
    "    elif x in ['grandstand', 'sports_centre','swimming_pool_changing_room','stable','stadium']:\n",
    "        return 'sport'     \n",
    "    elif x in ['train_station', 'transportation','parking','boathouse','carport','garages','bridge']:\n",
    "        return 'transport' \n",
    "    elif x in ['industrial', 'manufacture','switchroom','storage']:\n",
    "        return 'industrial'\n",
    "    elif x in ['hospital', 'medical']:\n",
    "        return 'medic'    \n",
    "    elif x in ['ruins']:\n",
    "        return 'ruins'    \n",
    "    elif x in ['construction']:\n",
    "        return 'construction_site'  \n",
    "    else:\n",
    "        return 'unknown'\n",
    "\n",
    "gdf['build_program'] = gdf['building'].apply(lambda x: map_values(x))"
   ]
  },
  {
   "cell_type": "code",
   "execution_count": 89,
   "id": "38046f65",
   "metadata": {},
   "outputs": [
    {
     "data": {
      "text/plain": [
       "array([nan, '3', '6', '2', '19', '4', '5', '1', '11', '12', '25', '20',\n",
       "       '9', '16', '7', '8', '22', '13', '10', '45', '47', '18', '14',\n",
       "       '37', '27', '52', '23', '21', '30', '15', '41', '0', '17', '50',\n",
       "       '26', '28', '33', '57', '55', '46', '54', '40', '43', '32', '1.5',\n",
       "       '36', '31', '42', '24', '29', '-1', '2.0', '35', '38', '0.5',\n",
       "       '12, 4', '4, 12', '34', '60', '63', '70', '39', '1,2,3', '65',\n",
       "       '1+1', '48', '3.5', '1,2,3,4,5,6', '44', '56'], dtype=object)"
      ]
     },
     "execution_count": 89,
     "metadata": {},
     "output_type": "execute_result"
    }
   ],
   "source": [
    "gdf['building_l'].unique()"
   ]
  },
  {
   "cell_type": "code",
   "execution_count": 125,
   "id": "14fb07cd",
   "metadata": {},
   "outputs": [
    {
     "name": "stdout",
     "output_type": "stream",
     "text": [
      "<class 'geopandas.geodataframe.GeoDataFrame'>\n",
      "RangeIndex: 113142 entries, 0 to 113141\n",
      "Data columns (total 8 columns):\n",
      " #   Column      Non-Null Count   Dtype   \n",
      "---  ------      --------------   -----   \n",
      " 0   osmid       113142 non-null  int32   \n",
      " 1   addr_stree  49143 non-null   object  \n",
      " 2   addr_house  53869 non-null   object  \n",
      " 3   building_l  22530 non-null   object  \n",
      " 4   building    113142 non-null  object  \n",
      " 5   name        113142 non-null  object  \n",
      " 6   build_prog  113142 non-null  object  \n",
      " 7   geometry    113142 non-null  geometry\n",
      "dtypes: geometry(1), int32(1), object(6)\n",
      "memory usage: 6.5+ MB\n"
     ]
    }
   ],
   "source": [
    "gdf.info()"
   ]
  },
  {
   "cell_type": "code",
   "execution_count": 102,
   "id": "4a929e58",
   "metadata": {},
   "outputs": [],
   "source": [
    "#check if any column contains list or bytes - not permitted by shp!\n",
    "for col in gdf.columns:\n",
    "    if any(isinstance(val, bytes) for val in gdf[col]):\n",
    "        print('Column: {0}, has a bytes in it'.format(col))\n",
    "    if any(isinstance(val, list) for val in gdf[col]):\n",
    "        print('Column: {0}, has a list in it'.format(col))"
   ]
  },
  {
   "cell_type": "code",
   "execution_count": 104,
   "id": "885c94d4",
   "metadata": {},
   "outputs": [
    {
     "name": "stdout",
     "output_type": "stream",
     "text": [
      "[]\n"
     ]
    }
   ],
   "source": [
    "#retrieve exact names of rows with bytes datatype\n",
    "import numpy as np\n",
    "# create a boolean mask indicating rows containing byte strings\n",
    "byte_mask = gdf['name'].apply(lambda x: isinstance(x, bytes))\n",
    "\n",
    "# select rows containing byte strings\n",
    "byte_rows = gdf[byte_mask]\n",
    "\n",
    "# get unique byte string values\n",
    "unique_bytes = np.unique(byte_rows['name'])\n",
    "print(unique_bytes)"
   ]
  },
  {
   "cell_type": "code",
   "execution_count": 105,
   "id": "b3e7736e",
   "metadata": {},
   "outputs": [],
   "source": [
    "gdf['name'] = gdf['name'].apply(lambda x: x.decode('latin-1') if isinstance(x, bytes) else x)"
   ]
  },
  {
   "cell_type": "code",
   "execution_count": 110,
   "id": "a86edd6d",
   "metadata": {},
   "outputs": [],
   "source": [
    "gdf = gdf.drop(columns=['addr_city','fid','office'])"
   ]
  },
  {
   "cell_type": "code",
   "execution_count": 120,
   "id": "67772af2",
   "metadata": {},
   "outputs": [],
   "source": [
    "gdf = gdf.rename(columns={'osm_id': 'osmid'})"
   ]
  },
  {
   "cell_type": "code",
   "execution_count": 121,
   "id": "88e6e5a4",
   "metadata": {},
   "outputs": [],
   "source": [
    "gdf['osmid'] = gdf['osmid'].dropna().astype(int)"
   ]
  },
  {
   "cell_type": "code",
   "execution_count": 76,
   "id": "9a715b4c",
   "metadata": {},
   "outputs": [],
   "source": [
    "import pandas as pd\n",
    "\n",
    "gdf1 = gdf.copy()\n",
    "gdf1 = gdf1.apply(pd.to_numeric, errors='ignore')\n",
    "gdf1 = gpd.GeoDataFrame(gdf1) # optional\n",
    "gdf1.set_geometry(col='geometry', inplace=True)"
   ]
  },
  {
   "cell_type": "code",
   "execution_count": 124,
   "id": "73222759",
   "metadata": {},
   "outputs": [],
   "source": [
    "# Save the modified shapefile\n",
    "gdf.to_file('C:/WORK_IAAC/submissions/Internet of Buildings/IoB_WIP/IoB_QGIS/buildings/buildings_FIN.shp')"
   ]
  },
  {
   "cell_type": "code",
   "execution_count": null,
   "id": "2f66207d",
   "metadata": {},
   "outputs": [],
   "source": []
  }
 ],
 "metadata": {
  "kernelspec": {
   "display_name": "Python 3 (ipykernel)",
   "language": "python",
   "name": "python3"
  },
  "language_info": {
   "codemirror_mode": {
    "name": "ipython",
    "version": 3
   },
   "file_extension": ".py",
   "mimetype": "text/x-python",
   "name": "python",
   "nbconvert_exporter": "python",
   "pygments_lexer": "ipython3",
   "version": "3.9.13"
  }
 },
 "nbformat": 4,
 "nbformat_minor": 5
}
