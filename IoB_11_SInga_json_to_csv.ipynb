{
 "cells": [
  {
   "cell_type": "code",
   "execution_count": 186,
   "id": "7ddd69dd",
   "metadata": {},
   "outputs": [],
   "source": [
    "import geopandas as gpd\n",
    "import pandas as pd\n",
    "import json\n",
    "import numpy as np\n",
    "import matplotlib.pyplot as plt\n",
    "\n",
    "# Open the file and load the JSON data\n",
    "with open('osm_entry.json', 'r') as f:\n",
    "    data = json.load(f)\n",
    "with open('blocks_coordinates.json', 'r') as f:\n",
    "    data1 = json.load(f)"
   ]
  },
  {
   "cell_type": "code",
   "execution_count": 187,
   "id": "aef18d0c",
   "metadata": {},
   "outputs": [],
   "source": [
    "features = [data[feature] for feature in data]\n",
    "\n",
    "# Extract the properties from the features and convert them to a pandas DataFrame\n",
    "properties = [feature['properties'] for feature in features]\n",
    "df = gpd.pd.DataFrame(properties)\n",
    "hdbid = df.iloc[:, [0, 8, -1]]"
   ]
  },
  {
   "cell_type": "code",
   "execution_count": 189,
   "id": "bc6c9f81",
   "metadata": {},
   "outputs": [
    {
     "data": {
      "text/plain": [
       "10601"
      ]
     },
     "execution_count": 189,
     "metadata": {},
     "output_type": "execute_result"
    }
   ],
   "source": [
    "hdbid['osmid'].nunique()"
   ]
  },
  {
   "cell_type": "code",
   "execution_count": 184,
   "id": "7b54d305",
   "metadata": {},
   "outputs": [
    {
     "data": {
      "text/html": [
       "<div>\n",
       "<style scoped>\n",
       "    .dataframe tbody tr th:only-of-type {\n",
       "        vertical-align: middle;\n",
       "    }\n",
       "\n",
       "    .dataframe tbody tr th {\n",
       "        vertical-align: top;\n",
       "    }\n",
       "\n",
       "    .dataframe thead th {\n",
       "        text-align: right;\n",
       "    }\n",
       "</style>\n",
       "<table border=\"1\" class=\"dataframe\">\n",
       "  <thead>\n",
       "    <tr style=\"text-align: right;\">\n",
       "      <th></th>\n",
       "      <th>type</th>\n",
       "      <th>properties</th>\n",
       "      <th>geometry</th>\n",
       "    </tr>\n",
       "  </thead>\n",
       "  <tbody>\n",
       "    <tr>\n",
       "      <th>0</th>\n",
       "      <td>Feature</td>\n",
       "      <td>{'osmid': 172927954, 'amenity': None, 'name': ...</td>\n",
       "      <td>{'type': 'MultiPolygon', 'coordinates': [[[[10...</td>\n",
       "    </tr>\n",
       "    <tr>\n",
       "      <th>1</th>\n",
       "      <td>Feature</td>\n",
       "      <td>{'osmid': 116692213, 'amenity': None, 'name': ...</td>\n",
       "      <td>{'type': 'MultiPolygon', 'coordinates': [[[[10...</td>\n",
       "    </tr>\n",
       "    <tr>\n",
       "      <th>2</th>\n",
       "      <td>Feature</td>\n",
       "      <td>{'osmid': 97585683, 'amenity': None, 'name': N...</td>\n",
       "      <td>{'type': 'MultiPolygon', 'coordinates': [[[[10...</td>\n",
       "    </tr>\n",
       "  </tbody>\n",
       "</table>\n",
       "</div>"
      ],
      "text/plain": [
       "      type                                         properties   \n",
       "0  Feature  {'osmid': 172927954, 'amenity': None, 'name': ...  \\\n",
       "1  Feature  {'osmid': 116692213, 'amenity': None, 'name': ...   \n",
       "2  Feature  {'osmid': 97585683, 'amenity': None, 'name': N...   \n",
       "\n",
       "                                            geometry  \n",
       "0  {'type': 'MultiPolygon', 'coordinates': [[[[10...  \n",
       "1  {'type': 'MultiPolygon', 'coordinates': [[[[10...  \n",
       "2  {'type': 'MultiPolygon', 'coordinates': [[[[10...  "
      ]
     },
     "execution_count": 184,
     "metadata": {},
     "output_type": "execute_result"
    }
   ],
   "source": [
    "df1 = pd.DataFrame(data).T.dropna()\n",
    "df1.head(3)"
   ]
  },
  {
   "cell_type": "code",
   "execution_count": 205,
   "id": "6a78aa4f",
   "metadata": {},
   "outputs": [
    {
     "data": {
      "text/plain": [
       "0        {'type': 'MultiPolygon', 'coordinates': [[[[10...\n",
       "1        {'type': 'MultiPolygon', 'coordinates': [[[[10...\n",
       "2        {'type': 'MultiPolygon', 'coordinates': [[[[10...\n",
       "3        {'type': 'MultiPolygon', 'coordinates': [[[[10...\n",
       "4        {'type': 'MultiPolygon', 'coordinates': [[[[10...\n",
       "                               ...                        \n",
       "11195    {'type': 'MultiPolygon', 'coordinates': [[[[10...\n",
       "11196    {'type': 'MultiPolygon', 'coordinates': [[[[10...\n",
       "11197    {'type': 'MultiPolygon', 'coordinates': [[[[10...\n",
       "11198    {'type': 'MultiPolygon', 'coordinates': [[[[10...\n",
       "11199    {'type': 'MultiPolygon', 'coordinates': [[[[10...\n",
       "Name: geometry, Length: 11117, dtype: object"
      ]
     },
     "execution_count": 205,
     "metadata": {},
     "output_type": "execute_result"
    }
   ],
   "source": [
    "df1['geometry']"
   ]
  },
  {
   "cell_type": "code",
   "execution_count": 185,
   "id": "7754c653",
   "metadata": {
    "scrolled": true
   },
   "outputs": [
    {
     "data": {
      "text/html": [
       "<div>\n",
       "<style scoped>\n",
       "    .dataframe tbody tr th:only-of-type {\n",
       "        vertical-align: middle;\n",
       "    }\n",
       "\n",
       "    .dataframe tbody tr th {\n",
       "        vertical-align: top;\n",
       "    }\n",
       "\n",
       "    .dataframe thead th {\n",
       "        text-align: right;\n",
       "    }\n",
       "</style>\n",
       "<table border=\"1\" class=\"dataframe\">\n",
       "  <thead>\n",
       "    <tr style=\"text-align: right;\">\n",
       "      <th></th>\n",
       "      <th>blk_no</th>\n",
       "      <th>street</th>\n",
       "      <th>address</th>\n",
       "      <th>latitude</th>\n",
       "      <th>longitude</th>\n",
       "      <th>hdb_blk_no</th>\n",
       "      <th>hdb_street</th>\n",
       "      <th>hdb_max_floor_lvl</th>\n",
       "      <th>hdb_year_completed</th>\n",
       "      <th>hdb_residential</th>\n",
       "      <th>...</th>\n",
       "      <th>hdb_3room_sold</th>\n",
       "      <th>hdb_4room_sold</th>\n",
       "      <th>hdb_5room_sold</th>\n",
       "      <th>hdb_exec_sold</th>\n",
       "      <th>hdb_multigen_sold</th>\n",
       "      <th>hdb_studio_apartment_sold</th>\n",
       "      <th>hdb_1room_rental</th>\n",
       "      <th>hdb_2room_rental</th>\n",
       "      <th>hdb_3room_rental</th>\n",
       "      <th>hdb_other_room_rental</th>\n",
       "    </tr>\n",
       "  </thead>\n",
       "  <tbody>\n",
       "    <tr>\n",
       "      <th>0</th>\n",
       "      <td>1</td>\n",
       "      <td>BEACH RD</td>\n",
       "      <td>1 BEACH RD</td>\n",
       "      <td>1.3036713506088</td>\n",
       "      <td>103.864478660925</td>\n",
       "      <td>1</td>\n",
       "      <td>BEACH RD</td>\n",
       "      <td>16</td>\n",
       "      <td>1970</td>\n",
       "      <td>Y</td>\n",
       "      <td>...</td>\n",
       "      <td>138</td>\n",
       "      <td>1</td>\n",
       "      <td>2</td>\n",
       "      <td>0</td>\n",
       "      <td>0</td>\n",
       "      <td>0</td>\n",
       "      <td>0</td>\n",
       "      <td>0</td>\n",
       "      <td>0</td>\n",
       "      <td>0</td>\n",
       "    </tr>\n",
       "    <tr>\n",
       "      <th>1</th>\n",
       "      <td>1</td>\n",
       "      <td>BEDOK STH AVE 1</td>\n",
       "      <td>1 BEDOK STH AVE 1</td>\n",
       "      <td>1.32085208689731</td>\n",
       "      <td>103.933721091441</td>\n",
       "      <td>1</td>\n",
       "      <td>BEDOK STH AVE 1</td>\n",
       "      <td>14</td>\n",
       "      <td>1975</td>\n",
       "      <td>Y</td>\n",
       "      <td>...</td>\n",
       "      <td>204</td>\n",
       "      <td>0</td>\n",
       "      <td>2</td>\n",
       "      <td>0</td>\n",
       "      <td>0</td>\n",
       "      <td>0</td>\n",
       "      <td>0</td>\n",
       "      <td>0</td>\n",
       "      <td>0</td>\n",
       "      <td>0</td>\n",
       "    </tr>\n",
       "    <tr>\n",
       "      <th>2</th>\n",
       "      <td>1</td>\n",
       "      <td>CANTONMENT RD</td>\n",
       "      <td>1 CANTONMENT RD</td>\n",
       "      <td>1.27548808568155</td>\n",
       "      <td>103.841419048957</td>\n",
       "      <td>1</td>\n",
       "      <td>CANTONMENT RD</td>\n",
       "      <td>2</td>\n",
       "      <td>2010</td>\n",
       "      <td>N</td>\n",
       "      <td>...</td>\n",
       "      <td>0</td>\n",
       "      <td>0</td>\n",
       "      <td>0</td>\n",
       "      <td>0</td>\n",
       "      <td>0</td>\n",
       "      <td>0</td>\n",
       "      <td>0</td>\n",
       "      <td>0</td>\n",
       "      <td>0</td>\n",
       "      <td>0</td>\n",
       "    </tr>\n",
       "  </tbody>\n",
       "</table>\n",
       "<p>3 rows × 29 columns</p>\n",
       "</div>"
      ],
      "text/plain": [
       "  blk_no           street            address          latitude   \n",
       "0      1         BEACH RD         1 BEACH RD   1.3036713506088  \\\n",
       "1      1  BEDOK STH AVE 1  1 BEDOK STH AVE 1  1.32085208689731   \n",
       "2      1    CANTONMENT RD    1 CANTONMENT RD  1.27548808568155   \n",
       "\n",
       "          longitude hdb_blk_no       hdb_street hdb_max_floor_lvl   \n",
       "0  103.864478660925          1         BEACH RD                16  \\\n",
       "1  103.933721091441          1  BEDOK STH AVE 1                14   \n",
       "2  103.841419048957          1    CANTONMENT RD                 2   \n",
       "\n",
       "  hdb_year_completed hdb_residential  ... hdb_3room_sold hdb_4room_sold   \n",
       "0               1970               Y  ...            138              1  \\\n",
       "1               1975               Y  ...            204              0   \n",
       "2               2010               N  ...              0              0   \n",
       "\n",
       "  hdb_5room_sold hdb_exec_sold hdb_multigen_sold hdb_studio_apartment_sold   \n",
       "0              2             0                 0                         0  \\\n",
       "1              2             0                 0                         0   \n",
       "2              0             0                 0                         0   \n",
       "\n",
       "  hdb_1room_rental hdb_2room_rental hdb_3room_rental hdb_other_room_rental  \n",
       "0                0                0                0                     0  \n",
       "1                0                0                0                     0  \n",
       "2                0                0                0                     0  \n",
       "\n",
       "[3 rows x 29 columns]"
      ]
     },
     "execution_count": 185,
     "metadata": {},
     "output_type": "execute_result"
    }
   ],
   "source": [
    "df2 = pd.DataFrame(data1).T.dropna()\n",
    "df2.head(3)"
   ]
  },
  {
   "cell_type": "code",
   "execution_count": 190,
   "id": "dd515c7e",
   "metadata": {},
   "outputs": [
    {
     "data": {
      "text/plain": [
       "Index(['hdb_street', 'hdb_max_floor_lvl', 'hdb_year_completed',\n",
       "       'hdb_residential', 'hdb_commercial', 'hdb_total_dwelling_units',\n",
       "       'hdb_1room_sold', 'hdb_2room_sold', 'hdb_3room_sold', 'hdb_4room_sold',\n",
       "       'hdb_5room_sold', 'hdb_exec_sold', 'hdb_multigen_sold',\n",
       "       'hdb_studio_apartment_sold'],\n",
       "      dtype='object')"
      ]
     },
     "execution_count": 190,
     "metadata": {},
     "output_type": "execute_result"
    }
   ],
   "source": [
    "df21 = df2.drop(columns=['blk_no','street', 'address','latitude', 'longitude','hdb_blk_no','hdb_market_hawker',\n",
    "       'hdb_miscellaneous', 'hdb_multistorey_carpark', 'hdb_precinct_pavilion',\n",
    "       'hdb_bldg_contract_town','hdb_1room_rental', 'hdb_2room_rental', 'hdb_3room_rental',\n",
    "       'hdb_other_room_rental'])\n",
    "df21.keys()"
   ]
  },
  {
   "cell_type": "code",
   "execution_count": 192,
   "id": "4e67ecb7",
   "metadata": {},
   "outputs": [
    {
     "data": {
      "text/plain": [
       "11117"
      ]
     },
     "execution_count": 192,
     "metadata": {},
     "output_type": "execute_result"
    }
   ],
   "source": [
    "hdbid.shape[0]"
   ]
  },
  {
   "cell_type": "code",
   "execution_count": 194,
   "id": "d41dbf88",
   "metadata": {},
   "outputs": [
    {
     "data": {
      "text/plain": [
       "12591"
      ]
     },
     "execution_count": 194,
     "metadata": {},
     "output_type": "execute_result"
    }
   ],
   "source": [
    "df21.shape[0]"
   ]
  },
  {
   "cell_type": "code",
   "execution_count": 209,
   "id": "243d049a",
   "metadata": {},
   "outputs": [
    {
     "data": {
      "text/plain": [
       "11117"
      ]
     },
     "execution_count": 209,
     "metadata": {},
     "output_type": "execute_result"
    }
   ],
   "source": [
    "df21 = df21.iloc[:hdbid.shape[0]].reset_index(drop=True)\n",
    "df21.shape[0]"
   ]
  },
  {
   "cell_type": "code",
   "execution_count": 210,
   "id": "496e7de1",
   "metadata": {},
   "outputs": [
    {
     "data": {
      "text/html": [
       "<div>\n",
       "<style scoped>\n",
       "    .dataframe tbody tr th:only-of-type {\n",
       "        vertical-align: middle;\n",
       "    }\n",
       "\n",
       "    .dataframe tbody tr th {\n",
       "        vertical-align: top;\n",
       "    }\n",
       "\n",
       "    .dataframe thead th {\n",
       "        text-align: right;\n",
       "    }\n",
       "</style>\n",
       "<table border=\"1\" class=\"dataframe\">\n",
       "  <thead>\n",
       "    <tr style=\"text-align: right;\">\n",
       "      <th></th>\n",
       "      <th>osmid</th>\n",
       "      <th>building_l</th>\n",
       "      <th>build_foot</th>\n",
       "      <th>hdb_street</th>\n",
       "      <th>hdb_max_floor_lvl</th>\n",
       "      <th>hdb_year_completed</th>\n",
       "      <th>hdb_residential</th>\n",
       "      <th>hdb_commercial</th>\n",
       "      <th>hdb_total_dwelling_units</th>\n",
       "      <th>hdb_1room_sold</th>\n",
       "      <th>hdb_2room_sold</th>\n",
       "      <th>hdb_3room_sold</th>\n",
       "      <th>hdb_4room_sold</th>\n",
       "      <th>hdb_5room_sold</th>\n",
       "      <th>hdb_exec_sold</th>\n",
       "      <th>hdb_multigen_sold</th>\n",
       "      <th>hdb_studio_apartment_sold</th>\n",
       "    </tr>\n",
       "  </thead>\n",
       "  <tbody>\n",
       "    <tr>\n",
       "      <th>0</th>\n",
       "      <td>172927954</td>\n",
       "      <td>16</td>\n",
       "      <td>8.192955e-08</td>\n",
       "      <td>BEACH RD</td>\n",
       "      <td>16</td>\n",
       "      <td>1970</td>\n",
       "      <td>Y</td>\n",
       "      <td>Y</td>\n",
       "      <td>142</td>\n",
       "      <td>0</td>\n",
       "      <td>1</td>\n",
       "      <td>138</td>\n",
       "      <td>1</td>\n",
       "      <td>2</td>\n",
       "      <td>0</td>\n",
       "      <td>0</td>\n",
       "      <td>0</td>\n",
       "    </tr>\n",
       "    <tr>\n",
       "      <th>1</th>\n",
       "      <td>116692213</td>\n",
       "      <td>14</td>\n",
       "      <td>1.200548e-07</td>\n",
       "      <td>BEDOK STH AVE 1</td>\n",
       "      <td>14</td>\n",
       "      <td>1975</td>\n",
       "      <td>Y</td>\n",
       "      <td>N</td>\n",
       "      <td>206</td>\n",
       "      <td>0</td>\n",
       "      <td>0</td>\n",
       "      <td>204</td>\n",
       "      <td>0</td>\n",
       "      <td>2</td>\n",
       "      <td>0</td>\n",
       "      <td>0</td>\n",
       "      <td>0</td>\n",
       "    </tr>\n",
       "    <tr>\n",
       "      <th>2</th>\n",
       "      <td>97585683</td>\n",
       "      <td>50</td>\n",
       "      <td>6.600365e-08</td>\n",
       "      <td>CANTONMENT RD</td>\n",
       "      <td>2</td>\n",
       "      <td>2010</td>\n",
       "      <td>N</td>\n",
       "      <td>Y</td>\n",
       "      <td>0</td>\n",
       "      <td>0</td>\n",
       "      <td>0</td>\n",
       "      <td>0</td>\n",
       "      <td>0</td>\n",
       "      <td>0</td>\n",
       "      <td>0</td>\n",
       "      <td>0</td>\n",
       "      <td>0</td>\n",
       "    </tr>\n",
       "  </tbody>\n",
       "</table>\n",
       "</div>"
      ],
      "text/plain": [
       "       osmid building_l    build_foot       hdb_street hdb_max_floor_lvl   \n",
       "0  172927954         16  8.192955e-08         BEACH RD                16  \\\n",
       "1  116692213         14  1.200548e-07  BEDOK STH AVE 1                14   \n",
       "2   97585683         50  6.600365e-08    CANTONMENT RD                 2   \n",
       "\n",
       "  hdb_year_completed hdb_residential hdb_commercial hdb_total_dwelling_units   \n",
       "0               1970               Y              Y                      142  \\\n",
       "1               1975               Y              N                      206   \n",
       "2               2010               N              Y                        0   \n",
       "\n",
       "  hdb_1room_sold hdb_2room_sold hdb_3room_sold hdb_4room_sold hdb_5room_sold   \n",
       "0              0              1            138              1              2  \\\n",
       "1              0              0            204              0              2   \n",
       "2              0              0              0              0              0   \n",
       "\n",
       "  hdb_exec_sold hdb_multigen_sold hdb_studio_apartment_sold  \n",
       "0             0                 0                         0  \n",
       "1             0                 0                         0  \n",
       "2             0                 0                         0  "
      ]
     },
     "execution_count": 210,
     "metadata": {},
     "output_type": "execute_result"
    }
   ],
   "source": [
    "merged_df = pd.merge(hdbid, df21, left_index=True, right_index=True, how='left')\n",
    "# col = merged_df.pop(merged_df.columns[-3])\n",
    "# merged_df.insert(0, col.name, col)\n",
    "merged_df.head(3)"
   ]
  },
  {
   "cell_type": "code",
   "execution_count": 174,
   "id": "a1c701e3",
   "metadata": {},
   "outputs": [
    {
     "name": "stdout",
     "output_type": "stream",
     "text": [
      "<class 'pandas.core.frame.DataFrame'>\n",
      "Index: 12591 entries, 0 to 12673\n",
      "Data columns (total 16 columns):\n",
      " #   Column                     Non-Null Count  Dtype \n",
      "---  ------                     --------------  ----- \n",
      " 0   street                     12591 non-null  object\n",
      " 1   address                    12591 non-null  object\n",
      " 2   hdb_street                 12591 non-null  object\n",
      " 3   hdb_max_floor_lvl          12591 non-null  object\n",
      " 4   hdb_year_completed         12591 non-null  object\n",
      " 5   hdb_residential            12591 non-null  object\n",
      " 6   hdb_commercial             12591 non-null  object\n",
      " 7   hdb_total_dwelling_units   12591 non-null  object\n",
      " 8   hdb_1room_sold             12591 non-null  object\n",
      " 9   hdb_2room_sold             12591 non-null  object\n",
      " 10  hdb_3room_sold             12591 non-null  object\n",
      " 11  hdb_4room_sold             12591 non-null  object\n",
      " 12  hdb_5room_sold             12591 non-null  object\n",
      " 13  hdb_exec_sold              12591 non-null  object\n",
      " 14  hdb_multigen_sold          12591 non-null  object\n",
      " 15  hdb_studio_apartment_sold  12591 non-null  object\n",
      "dtypes: object(16)\n",
      "memory usage: 1.9+ MB\n"
     ]
    }
   ],
   "source": [
    "df21.info()"
   ]
  },
  {
   "cell_type": "code",
   "execution_count": 211,
   "id": "34ca04ab",
   "metadata": {},
   "outputs": [
    {
     "data": {
      "image/png": "[encoded data removed]",
      "text/plain": [
       "<Figure size 640x480 with 1 Axes>"
      ]
     },
     "metadata": {},
     "output_type": "display_data"
    }
   ],
   "source": [
    "# get the count of non-NaN values for each column\n",
    "gdfy = merged_df\n",
    "counts = gdfy.count()\n",
    "\n",
    "# create a bar plot of non-NaN counts with red color\n",
    "ax = counts.plot(kind='bar', color='red')\n",
    "\n",
    "# add the count percentage above each bar\n",
    "for i, v in enumerate(counts):\n",
    "    ax.text(i, v+5, str(round((v/gdfy.shape[0])*100, 2)) + '%', ha='center', rotation=90, size=8)\n",
    "    \n",
    "# set the x-label and y-label\n",
    "ax.set_xlabel('Columns')\n",
    "ax.set_ylabel('Number of non-NaN values')\n",
    "\n",
    "plt.show()"
   ]
  },
  {
   "cell_type": "code",
   "execution_count": 212,
   "id": "ce7cad60",
   "metadata": {},
   "outputs": [],
   "source": [
    "merged_df.to_csv('C:/WORK_IAAC/submissions/Internet of Buildings/IoB_WIP/IoB_QGIS/buildings/buildings_HDB.csv', index=False)"
   ]
  },
  {
   "cell_type": "code",
   "execution_count": null,
   "id": "bdb02d2f",
   "metadata": {},
   "outputs": [],
   "source": []
  }
 ],
 "metadata": {
  "kernelspec": {
   "display_name": "Python 3 (ipykernel)",
   "language": "python",
   "name": "python3"
  },
  "language_info": {
   "codemirror_mode": {
    "name": "ipython",
    "version": 3
   },
   "file_extension": ".py",
   "mimetype": "text/x-python",
   "name": "python",
   "nbconvert_exporter": "python",
   "pygments_lexer": "ipython3",
   "version": "3.9.13"
  }
 },
 "nbformat": 4,
 "nbformat_minor": 5
}
